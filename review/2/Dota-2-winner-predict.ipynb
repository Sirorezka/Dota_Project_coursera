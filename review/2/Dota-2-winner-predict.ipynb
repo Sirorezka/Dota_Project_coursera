{
 "cells": [
  {
   "cell_type": "markdown",
   "metadata": {},
   "source": [
    "### Импорт данных для обучения"
   ]
  },
  {
   "cell_type": "code",
   "execution_count": 7,
   "metadata": {
    "collapsed": false
   },
   "outputs": [],
   "source": [
    "import pandas as pd\n",
    "features = pd.read_csv('../../data/features.csv', index_col='match_id')"
   ]
  },
  {
   "cell_type": "markdown",
   "metadata": {
    "collapsed": false
   },
   "source": [
    "### Подготовка признаков для обучения"
   ]
  },
  {
   "cell_type": "markdown",
   "metadata": {
    "collapsed": true
   },
   "source": [
    "#### Удаление признаков, связанных с итогами матча "
   ]
  },
  {
   "cell_type": "code",
   "execution_count": 8,
   "metadata": {
    "collapsed": true
   },
   "outputs": [],
   "source": [
    "final_feature_names = ['duration',\n",
    "                       'radiant_win',\n",
    "                       'tower_status_radiant',\n",
    "                       'tower_status_dire',\n",
    "                       'barracks_status_radiant',\n",
    "                       'barracks_status_dire']"
   ]
  },
  {
   "cell_type": "code",
   "execution_count": 14,
   "metadata": {
    "collapsed": false
   },
   "outputs": [
    {
     "name": "stdout",
     "output_type": "stream",
     "text": [
      "(97230, 102)\n"
     ]
    }
   ],
   "source": [
    "x = features.copy()\n",
    "x = x.drop(final_feature_names, 1)\n",
    "print (x.shape)"
   ]
  },
  {
   "cell_type": "markdown",
   "metadata": {},
   "source": [
    "#### Обработка пропусков"
   ]
  },
  {
   "cell_type": "markdown",
   "metadata": {},
   "source": [
    "##### Поиск пропусков"
   ]
  },
  {
   "cell_type": "code",
   "execution_count": 17,
   "metadata": {
    "collapsed": true
   },
   "outputs": [],
   "source": [
    "feature_names = list(x.columns.values)\n",
    "object_count, feature_count = x.shape"
   ]
  },
  {
   "cell_type": "code",
   "execution_count": 18,
   "metadata": {
    "collapsed": false
   },
   "outputs": [
    {
     "name": "stdout",
     "output_type": "stream",
     "text": [
      "first_blood_time: 19553\n",
      "first_blood_team: 19553\n",
      "first_blood_player1: 19553\n",
      "first_blood_player2: 43987\n",
      "radiant_bottle_time: 15691\n",
      "radiant_courier_time: 692\n",
      "radiant_flying_courier_time: 27479\n",
      "radiant_first_ward_time: 1836\n",
      "dire_bottle_time: 16143\n",
      "dire_courier_time: 676\n",
      "dire_flying_courier_time: 26098\n",
      "dire_first_ward_time: 1826\n"
     ]
    }
   ],
   "source": [
    "for i, nonempty_count in enumerate(x.count()):\n",
    "    feature_name = feature_names[i]\n",
    "    empty_count = object_count - nonempty_count\n",
    "    if empty_count > 0:\n",
    "        print(\"%s: %s\" % (feature_name, empty_count))"
   ]
  },
  {
   "cell_type": "markdown",
   "metadata": {},
   "source": [
    "##### Объяснение возможных причин пропусков\n",
    "\n",
    "* `first_blood_time` / `first_blood_team` / `first_blood_player1` - в течение первых пяти минут игроков не атаковали. При этом `first_blood_player2` больше, чем `first_blood_player1`, видимо, из-за того, что иногда первая кровь проливается в результате атак неигровых персонажей.\n",
    "* Остальные пропуски говорят о том, что предметы, соответствующие колонкам, не использовались в течение первых пяти минут."
   ]
  },
  {
   "cell_type": "markdown",
   "metadata": {},
   "source": [
    "##### Заполнение пропусков"
   ]
  },
  {
   "cell_type": "code",
   "execution_count": 19,
   "metadata": {
    "collapsed": false
   },
   "outputs": [],
   "source": [
    "x = x.fillna(0)"
   ]
  },
  {
   "cell_type": "markdown",
   "metadata": {},
   "source": [
    "#### Подготовка целевых переменных\n",
    "\n",
    "Целевой признак -- `radiant_win`. Он уже представляет собой результат принадлежности к классам 1 (победила команда Radiant) и 0."
   ]
  },
  {
   "cell_type": "code",
   "execution_count": 20,
   "metadata": {
    "collapsed": false
   },
   "outputs": [],
   "source": [
    "y = features[['radiant_win']]\n",
    "y= y.fillna(0)"
   ]
  },
  {
   "cell_type": "markdown",
   "metadata": {},
   "source": [
    "### Обучение классификатора методом градиентного бустинга"
   ]
  },
  {
   "cell_type": "markdown",
   "metadata": {},
   "source": [
    "#### Фиксация генератора кроссвалидации"
   ]
  },
  {
   "cell_type": "code",
   "execution_count": 21,
   "metadata": {
    "collapsed": false
   },
   "outputs": [],
   "source": [
    "from sklearn.cross_validation import KFold\n",
    "cv = KFold(object_count, n_folds=5, shuffle=True)"
   ]
  },
  {
   "cell_type": "markdown",
   "metadata": {},
   "source": [
    "#### Обучение классификаторов с различным числом деревьев"
   ]
  },
  {
   "cell_type": "code",
   "execution_count": 22,
   "metadata": {
    "collapsed": true
   },
   "outputs": [],
   "source": [
    "estimator_counts = [5, 10, 20, 30, 40, 50, 60, 70]"
   ]
  },
  {
   "cell_type": "code",
   "execution_count": 23,
   "metadata": {
    "collapsed": false
   },
   "outputs": [
    {
     "name": "stdout",
     "output_type": "stream",
     "text": [
      "Число деревьев: 5, roc_auc_score: 0.636389025824, потраченное время: 0:00:20.502776\n",
      "Число деревьев: 10, roc_auc_score: 0.664622511743, потраченное время: 0:00:41.776878\n",
      "Число деревьев: 20, roc_auc_score: 0.682562900874, потраченное время: 0:01:19.181556\n"
     ]
    },
    {
     "ename": "KeyboardInterrupt",
     "evalue": "",
     "output_type": "error",
     "traceback": [
      "\u001b[1;31m---------------------------------------------------------------------------\u001b[0m",
      "\u001b[1;31mKeyboardInterrupt\u001b[0m                         Traceback (most recent call last)",
      "\u001b[1;32m<ipython-input-23-09115809d0e1>\u001b[0m in \u001b[0;36m<module>\u001b[1;34m()\u001b[0m\n\u001b[0;32m     23\u001b[0m     \u001b[0mstart_time\u001b[0m \u001b[1;33m=\u001b[0m \u001b[0mdatetime\u001b[0m\u001b[1;33m.\u001b[0m\u001b[0mdatetime\u001b[0m\u001b[1;33m.\u001b[0m\u001b[0mnow\u001b[0m\u001b[1;33m(\u001b[0m\u001b[1;33m)\u001b[0m\u001b[1;33m\u001b[0m\u001b[0m\n\u001b[0;32m     24\u001b[0m \u001b[1;33m\u001b[0m\u001b[0m\n\u001b[1;32m---> 25\u001b[1;33m     \u001b[0mscores\u001b[0m \u001b[1;33m=\u001b[0m \u001b[1;33m[\u001b[0m \u001b[0mcalc_score\u001b[0m\u001b[1;33m(\u001b[0m\u001b[0mn_estimators\u001b[0m\u001b[1;33m,\u001b[0m \u001b[0mtrain_index\u001b[0m\u001b[1;33m,\u001b[0m \u001b[0mtest_index\u001b[0m\u001b[1;33m)\u001b[0m \u001b[1;32mfor\u001b[0m \u001b[0mtrain_index\u001b[0m\u001b[1;33m,\u001b[0m \u001b[0mtest_index\u001b[0m \u001b[1;32min\u001b[0m \u001b[0mcv\u001b[0m \u001b[1;33m]\u001b[0m\u001b[1;33m\u001b[0m\u001b[0m\n\u001b[0m\u001b[0;32m     26\u001b[0m     \u001b[0mscore\u001b[0m \u001b[1;33m=\u001b[0m \u001b[0mnp\u001b[0m\u001b[1;33m.\u001b[0m\u001b[0marray\u001b[0m\u001b[1;33m(\u001b[0m\u001b[0mscores\u001b[0m\u001b[1;33m)\u001b[0m\u001b[1;33m.\u001b[0m\u001b[0mmean\u001b[0m\u001b[1;33m(\u001b[0m\u001b[1;33m)\u001b[0m\u001b[1;33m\u001b[0m\u001b[0m\n\u001b[0;32m     27\u001b[0m \u001b[1;33m\u001b[0m\u001b[0m\n",
      "\u001b[1;32m<ipython-input-23-09115809d0e1>\u001b[0m in \u001b[0;36mcalc_score\u001b[1;34m(n, train_index, test_index)\u001b[0m\n\u001b[0;32m     13\u001b[0m     \u001b[0mclf\u001b[0m \u001b[1;33m=\u001b[0m \u001b[0mGradientBoostingClassifier\u001b[0m\u001b[1;33m(\u001b[0m\u001b[0mn_estimators\u001b[0m\u001b[1;33m=\u001b[0m\u001b[0mn\u001b[0m\u001b[1;33m)\u001b[0m\u001b[1;33m\u001b[0m\u001b[0m\n\u001b[0;32m     14\u001b[0m \u001b[1;33m\u001b[0m\u001b[0m\n\u001b[1;32m---> 15\u001b[1;33m     \u001b[0mclf\u001b[0m\u001b[1;33m.\u001b[0m\u001b[0mfit\u001b[0m\u001b[1;33m(\u001b[0m\u001b[0mx_train\u001b[0m\u001b[1;33m,\u001b[0m \u001b[0mnp\u001b[0m\u001b[1;33m.\u001b[0m\u001b[0mravel\u001b[0m\u001b[1;33m(\u001b[0m\u001b[0my_train\u001b[0m\u001b[1;33m)\u001b[0m\u001b[1;33m)\u001b[0m\u001b[1;33m\u001b[0m\u001b[0m\n\u001b[0m\u001b[0;32m     16\u001b[0m     \u001b[0mpredict\u001b[0m \u001b[1;33m=\u001b[0m \u001b[0mclf\u001b[0m\u001b[1;33m.\u001b[0m\u001b[0mpredict_proba\u001b[0m\u001b[1;33m(\u001b[0m\u001b[0mx_test\u001b[0m\u001b[1;33m)\u001b[0m\u001b[1;33m[\u001b[0m\u001b[1;33m:\u001b[0m\u001b[1;33m,\u001b[0m \u001b[1;36m1\u001b[0m\u001b[1;33m]\u001b[0m\u001b[1;33m\u001b[0m\u001b[0m\n\u001b[0;32m     17\u001b[0m     \u001b[1;32mreturn\u001b[0m \u001b[0mroc_auc_score\u001b[0m\u001b[1;33m(\u001b[0m\u001b[0my_test\u001b[0m\u001b[1;33m,\u001b[0m \u001b[0mpredict\u001b[0m\u001b[1;33m)\u001b[0m\u001b[1;33m\u001b[0m\u001b[0m\n",
      "\u001b[1;32m/home/sirorezka/anaconda2/envs/py27/lib/python2.7/site-packages/sklearn/ensemble/gradient_boosting.pyc\u001b[0m in \u001b[0;36mfit\u001b[1;34m(self, X, y, sample_weight, monitor)\u001b[0m\n\u001b[0;32m   1023\u001b[0m         \u001b[1;31m# fit the boosting stages\u001b[0m\u001b[1;33m\u001b[0m\u001b[1;33m\u001b[0m\u001b[0m\n\u001b[0;32m   1024\u001b[0m         n_stages = self._fit_stages(X, y, y_pred, sample_weight, random_state,\n\u001b[1;32m-> 1025\u001b[1;33m                                     begin_at_stage, monitor, X_idx_sorted)\n\u001b[0m\u001b[0;32m   1026\u001b[0m         \u001b[1;31m# change shape of arrays after fit (early-stopping or additional ests)\u001b[0m\u001b[1;33m\u001b[0m\u001b[1;33m\u001b[0m\u001b[0m\n\u001b[0;32m   1027\u001b[0m         \u001b[1;32mif\u001b[0m \u001b[0mn_stages\u001b[0m \u001b[1;33m!=\u001b[0m \u001b[0mself\u001b[0m\u001b[1;33m.\u001b[0m\u001b[0mestimators_\u001b[0m\u001b[1;33m.\u001b[0m\u001b[0mshape\u001b[0m\u001b[1;33m[\u001b[0m\u001b[1;36m0\u001b[0m\u001b[1;33m]\u001b[0m\u001b[1;33m:\u001b[0m\u001b[1;33m\u001b[0m\u001b[0m\n",
      "\u001b[1;32m/home/sirorezka/anaconda2/envs/py27/lib/python2.7/site-packages/sklearn/ensemble/gradient_boosting.pyc\u001b[0m in \u001b[0;36m_fit_stages\u001b[1;34m(self, X, y, y_pred, sample_weight, random_state, begin_at_stage, monitor, X_idx_sorted)\u001b[0m\n\u001b[0;32m   1078\u001b[0m             y_pred = self._fit_stage(i, X, y, y_pred, sample_weight,\n\u001b[0;32m   1079\u001b[0m                                      \u001b[0msample_mask\u001b[0m\u001b[1;33m,\u001b[0m \u001b[0mrandom_state\u001b[0m\u001b[1;33m,\u001b[0m \u001b[0mX_idx_sorted\u001b[0m\u001b[1;33m,\u001b[0m\u001b[1;33m\u001b[0m\u001b[0m\n\u001b[1;32m-> 1080\u001b[1;33m                                      X_csc, X_csr)\n\u001b[0m\u001b[0;32m   1081\u001b[0m \u001b[1;33m\u001b[0m\u001b[0m\n\u001b[0;32m   1082\u001b[0m             \u001b[1;31m# track deviance (= loss)\u001b[0m\u001b[1;33m\u001b[0m\u001b[1;33m\u001b[0m\u001b[0m\n",
      "\u001b[1;32m/home/sirorezka/anaconda2/envs/py27/lib/python2.7/site-packages/sklearn/ensemble/gradient_boosting.pyc\u001b[0m in \u001b[0;36m_fit_stage\u001b[1;34m(self, i, X, y, y_pred, sample_weight, sample_mask, random_state, X_idx_sorted, X_csc, X_csr)\u001b[0m\n\u001b[0;32m    782\u001b[0m             \u001b[1;32melse\u001b[0m\u001b[1;33m:\u001b[0m\u001b[1;33m\u001b[0m\u001b[0m\n\u001b[0;32m    783\u001b[0m                 tree.fit(X, residual, sample_weight=sample_weight,\n\u001b[1;32m--> 784\u001b[1;33m                          check_input=False, X_idx_sorted=X_idx_sorted)\n\u001b[0m\u001b[0;32m    785\u001b[0m \u001b[1;33m\u001b[0m\u001b[0m\n\u001b[0;32m    786\u001b[0m             \u001b[1;31m# update tree leaves\u001b[0m\u001b[1;33m\u001b[0m\u001b[1;33m\u001b[0m\u001b[0m\n",
      "\u001b[1;32m/home/sirorezka/anaconda2/envs/py27/lib/python2.7/site-packages/sklearn/tree/tree.pyc\u001b[0m in \u001b[0;36mfit\u001b[1;34m(self, X, y, sample_weight, check_input, X_idx_sorted)\u001b[0m\n\u001b[0;32m    304\u001b[0m         \u001b[1;31m# into each tree.\u001b[0m\u001b[1;33m\u001b[0m\u001b[1;33m\u001b[0m\u001b[0m\n\u001b[0;32m    305\u001b[0m         \u001b[1;32mif\u001b[0m \u001b[0mX_idx_sorted\u001b[0m \u001b[1;32mis\u001b[0m \u001b[0mNone\u001b[0m \u001b[1;32mand\u001b[0m \u001b[0mpresort\u001b[0m\u001b[1;33m:\u001b[0m\u001b[1;33m\u001b[0m\u001b[0m\n\u001b[1;32m--> 306\u001b[1;33m                 X_idx_sorted = np.asfortranarray(np.argsort(X, axis=0),\n\u001b[0m\u001b[0;32m    307\u001b[0m                                                  dtype=np.int32)\n\u001b[0;32m    308\u001b[0m \u001b[1;33m\u001b[0m\u001b[0m\n",
      "\u001b[1;32m/home/sirorezka/anaconda2/envs/py27/lib/python2.7/site-packages/numpy/core/fromnumeric.pyc\u001b[0m in \u001b[0;36margsort\u001b[1;34m(a, axis, kind, order)\u001b[0m\n\u001b[0;32m    906\u001b[0m     \u001b[1;32mexcept\u001b[0m \u001b[0mAttributeError\u001b[0m\u001b[1;33m:\u001b[0m\u001b[1;33m\u001b[0m\u001b[0m\n\u001b[0;32m    907\u001b[0m         \u001b[1;32mreturn\u001b[0m \u001b[0m_wrapit\u001b[0m\u001b[1;33m(\u001b[0m\u001b[0ma\u001b[0m\u001b[1;33m,\u001b[0m \u001b[1;34m'argsort'\u001b[0m\u001b[1;33m,\u001b[0m \u001b[0maxis\u001b[0m\u001b[1;33m,\u001b[0m \u001b[0mkind\u001b[0m\u001b[1;33m,\u001b[0m \u001b[0morder\u001b[0m\u001b[1;33m)\u001b[0m\u001b[1;33m\u001b[0m\u001b[0m\n\u001b[1;32m--> 908\u001b[1;33m     \u001b[1;32mreturn\u001b[0m \u001b[0margsort\u001b[0m\u001b[1;33m(\u001b[0m\u001b[0maxis\u001b[0m\u001b[1;33m,\u001b[0m \u001b[0mkind\u001b[0m\u001b[1;33m,\u001b[0m \u001b[0morder\u001b[0m\u001b[1;33m)\u001b[0m\u001b[1;33m\u001b[0m\u001b[0m\n\u001b[0m\u001b[0;32m    909\u001b[0m \u001b[1;33m\u001b[0m\u001b[0m\n\u001b[0;32m    910\u001b[0m \u001b[1;33m\u001b[0m\u001b[0m\n",
      "\u001b[1;31mKeyboardInterrupt\u001b[0m: "
     ]
    }
   ],
   "source": [
    "import numpy as np\n",
    "from sklearn.ensemble import GradientBoostingClassifier\n",
    "from sklearn.metrics import roc_auc_score\n",
    "import time\n",
    "import datetime\n",
    "\n",
    "def calc_score(n, train_index, test_index):\n",
    "    x_train = x.values[train_index]\n",
    "    x_test = x.values[test_index]\n",
    "    y_train = y.values[train_index]\n",
    "    y_test = y.values[test_index]\n",
    "    \n",
    "    clf = GradientBoostingClassifier(n_estimators=n)\n",
    "    \n",
    "    clf.fit(x_train, np.ravel(y_train))    \n",
    "    predict = clf.predict_proba(x_test)[:, 1]   \n",
    "    return roc_auc_score(y_test, predict)\n",
    "\n",
    "\n",
    "\n",
    "for n_estimators in estimator_counts:\n",
    "    \n",
    "    start_time = datetime.datetime.now()\n",
    "    \n",
    "    scores = [ calc_score(n_estimators, train_index, test_index) for train_index, test_index in cv ]\n",
    "    score = np.array(scores).mean()\n",
    "    \n",
    "    end_time = datetime.datetime.now()\n",
    "    \n",
    "    total_time = end_time - start_time\n",
    "    \n",
    "    print(\"Число деревьев: %s, roc_auc_score: %s, потраченное время: %s\" % (n_estimators, score, total_time))\n",
    "    "
   ]
  },
  {
   "cell_type": "markdown",
   "metadata": {},
   "source": [
    "### Обучение классификатора методом логистической регрессии\n",
    "\n",
    "#### Нормализация признаков"
   ]
  },
  {
   "cell_type": "code",
   "execution_count": 24,
   "metadata": {
    "collapsed": true
   },
   "outputs": [],
   "source": [
    "from sklearn.preprocessing import StandardScaler\n",
    "scaler = StandardScaler()\n",
    "\n",
    "xs = scaler.fit_transform(x)"
   ]
  },
  {
   "cell_type": "markdown",
   "metadata": {},
   "source": [
    "#### Наивное применение логистической регрессии"
   ]
  },
  {
   "cell_type": "code",
   "execution_count": 25,
   "metadata": {
    "collapsed": true
   },
   "outputs": [],
   "source": [
    "from sklearn.linear_model import LogisticRegression\n",
    "regularizations = [0.000001, 0.00001, 0.0001, 0.001, 0.01, 0.1, 1]\n",
    "\n",
    "def calc_score_log(xs, c, train_index, test_index):\n",
    "    x_train = xs[train_index]\n",
    "    x_test = xs[test_index]\n",
    "    y_train = y.values[train_index]\n",
    "    y_test = y.values[test_index]\n",
    "    \n",
    "    clf = LogisticRegression(C=c)\n",
    "    \n",
    "    clf.fit(x_train, np.ravel(y_train))    \n",
    "    predict = clf.predict_proba(x_test)[:, 1] \n",
    "    return roc_auc_score(y_test, predict)\n",
    "\n",
    "def estimate_quality(xs):\n",
    "    \n",
    "    for c in regularizations:\n",
    "    \n",
    "        start_time = datetime.datetime.now()\n",
    "    \n",
    "        scores = [ calc_score_log(xs, c, train_index, test_index) for train_index, test_index in cv ]\n",
    "        score = np.array(scores).mean()\n",
    "    \n",
    "        end_time = datetime.datetime.now()\n",
    "    \n",
    "        total_time = end_time - start_time\n",
    "    \n",
    "        print(\"Параметр регуляризации: %s, roc_auc_score: %s, потраченное время: %s\" % (c, score, total_time))\n",
    "    \n"
   ]
  },
  {
   "cell_type": "code",
   "execution_count": 26,
   "metadata": {
    "collapsed": false
   },
   "outputs": [
    {
     "name": "stdout",
     "output_type": "stream",
     "text": [
      "Параметр регуляризации: 1e-06, roc_auc_score: 0.688133316801, потраченное время: 0:00:01.525958\n",
      "Параметр регуляризации: 1e-05, roc_auc_score: 0.695066604472, потраченное время: 0:00:01.917500\n",
      "Параметр регуляризации: 0.0001, roc_auc_score: 0.711217407224, потраченное время: 0:00:03.330450\n",
      "Параметр регуляризации: 0.001, roc_auc_score: 0.716149816261, потраченное время: 0:00:06.444137\n",
      "Параметр регуляризации: 0.01, roc_auc_score: 0.716288894731, потраченное время: 0:00:08.258238\n",
      "Параметр регуляризации: 0.1, roc_auc_score: 0.716256958017, потраченное время: 0:00:08.737845\n",
      "Параметр регуляризации: 1, roc_auc_score: 0.716252727716, потраченное время: 0:00:08.725670\n"
     ]
    }
   ],
   "source": [
    "estimate_quality(xs)"
   ]
  },
  {
   "cell_type": "markdown",
   "metadata": {},
   "source": [
    "#### Логистическая регрессия с отброшенными категориальными признаками"
   ]
  },
  {
   "cell_type": "code",
   "execution_count": 27,
   "metadata": {
    "collapsed": true
   },
   "outputs": [],
   "source": [
    " category_features = ['lobby_type',\n",
    "                      'r1_hero',\n",
    "                      'r2_hero',\n",
    "                      'r3_hero',\n",
    "                      'r4_hero',\n",
    "                      'r5_hero',\n",
    "                      'd1_hero',\n",
    "                      'd2_hero',\n",
    "                      'd3_hero',\n",
    "                      'd4_hero',\n",
    "                      'd5_hero']"
   ]
  },
  {
   "cell_type": "code",
   "execution_count": 28,
   "metadata": {
    "collapsed": true
   },
   "outputs": [],
   "source": [
    "x_nocat = x.drop(category_features, 1)\n",
    "xs_nocat = scaler.fit_transform(x_nocat)"
   ]
  },
  {
   "cell_type": "code",
   "execution_count": 29,
   "metadata": {
    "collapsed": false
   },
   "outputs": [
    {
     "name": "stdout",
     "output_type": "stream",
     "text": [
      "Параметр регуляризации: 1e-06, roc_auc_score: 0.688088008126, потраченное время: 0:00:01.389024\n",
      "Параметр регуляризации: 1e-05, roc_auc_score: 0.695001195997, потраченное время: 0:00:01.787333\n",
      "Параметр регуляризации: 0.0001, roc_auc_score: 0.711184363166, потраченное время: 0:00:02.912995\n",
      "Параметр регуляризации: 0.001, roc_auc_score: 0.716151285654, потраченное время: 0:00:05.786601\n",
      "Параметр регуляризации: 0.01, roc_auc_score: 0.716295246548, потраченное время: 0:00:07.140980\n",
      "Параметр регуляризации: 0.1, roc_auc_score: 0.716262290445, потраченное время: 0:00:08.075905\n",
      "Параметр регуляризации: 1, roc_auc_score: 0.716257844964, потраченное время: 0:00:08.394962\n"
     ]
    }
   ],
   "source": [
    "estimate_quality(xs_nocat)"
   ]
  },
  {
   "cell_type": "markdown",
   "metadata": {},
   "source": [
    "#### Поиск числа различных значений для категориальных параметров"
   ]
  },
  {
   "cell_type": "code",
   "execution_count": 30,
   "metadata": {
    "collapsed": false
   },
   "outputs": [
    {
     "data": {
      "text/plain": [
       "{'d1_hero': 108,\n",
       " 'd2_hero': 108,\n",
       " 'd3_hero': 108,\n",
       " 'd4_hero': 108,\n",
       " 'd5_hero': 108,\n",
       " 'lobby_type': 3,\n",
       " 'r1_hero': 108,\n",
       " 'r2_hero': 108,\n",
       " 'r3_hero': 108,\n",
       " 'r4_hero': 108,\n",
       " 'r5_hero': 108}"
      ]
     },
     "execution_count": 30,
     "metadata": {},
     "output_type": "execute_result"
    }
   ],
   "source": [
    "feature_value_counts = {feature_name: x[feature_name].value_counts().count() for feature_name in category_features}\n",
    "feature_value_counts"
   ]
  },
  {
   "cell_type": "code",
   "execution_count": 31,
   "metadata": {
    "collapsed": false
   },
   "outputs": [
    {
     "data": {
      "text/plain": [
       "{'d1_hero': 112,\n",
       " 'd2_hero': 112,\n",
       " 'd3_hero': 112,\n",
       " 'd4_hero': 112,\n",
       " 'd5_hero': 112,\n",
       " 'lobby_type': 7,\n",
       " 'r1_hero': 112,\n",
       " 'r2_hero': 112,\n",
       " 'r3_hero': 112,\n",
       " 'r4_hero': 112,\n",
       " 'r5_hero': 112}"
      ]
     },
     "execution_count": 31,
     "metadata": {},
     "output_type": "execute_result"
    }
   ],
   "source": [
    "feature_value_max = {feature_name: x[feature_name].max() for feature_name in category_features}\n",
    "feature_value_max"
   ]
  },
  {
   "cell_type": "markdown",
   "metadata": {},
   "source": [
    "#### Формирование \"мешка слов\" для категориальных атрибутов"
   ]
  },
  {
   "cell_type": "code",
   "execution_count": 32,
   "metadata": {
    "collapsed": true
   },
   "outputs": [],
   "source": [
    "N = feature_value_max['d1_hero']"
   ]
  },
  {
   "cell_type": "code",
   "execution_count": 33,
   "metadata": {
    "collapsed": false
   },
   "outputs": [],
   "source": [
    "x_pick = np.zeros((x.shape[0], N))\n",
    "\n",
    "for i, match_id in enumerate(x.index):\n",
    "    for p in range(5):\n",
    "        x_pick[i, x.ix[match_id, 'r%d_hero' % (p+1)]-1] = 1\n",
    "        x_pick[i, x.ix[match_id, 'd%d_hero' % (p+1)]-1] = -1"
   ]
  },
  {
   "cell_type": "code",
   "execution_count": 34,
   "metadata": {
    "collapsed": false
   },
   "outputs": [],
   "source": [
    "xs_with_pick = np.concatenate((xs_nocat, x_pick), axis=1)"
   ]
  },
  {
   "cell_type": "markdown",
   "metadata": {},
   "source": [
    "#### Логистическая регрессия с учтенными категориальными признаками выбора героев"
   ]
  },
  {
   "cell_type": "code",
   "execution_count": 35,
   "metadata": {
    "collapsed": false
   },
   "outputs": [
    {
     "name": "stdout",
     "output_type": "stream",
     "text": [
      "Параметр регуляризации: 1e-06, roc_auc_score: 0.690491361766, потраченное время: 0:00:01.572593\n",
      "Параметр регуляризации: 1e-05, roc_auc_score: 0.699115031175, потраченное время: 0:00:01.926339\n",
      "Параметр регуляризации: 0.0001, roc_auc_score: 0.724895942549, потраченное время: 0:00:03.253581\n",
      "Параметр регуляризации: 0.001, roc_auc_score: 0.746068923431, потраченное время: 0:00:07.132081\n",
      "Параметр регуляризации: 0.01, roc_auc_score: 0.751465856173, потраченное время: 0:00:12.708235\n",
      "Параметр регуляризации: 0.1, roc_auc_score: 0.751685712407, потраченное время: 0:00:19.595579\n",
      "Параметр регуляризации: 1, roc_auc_score: 0.751671174501, потраченное время: 0:00:20.469258\n"
     ]
    }
   ],
   "source": [
    "estimate_quality(xs_with_pick)"
   ]
  },
  {
   "cell_type": "markdown",
   "metadata": {},
   "source": [
    "### Подсчет предсказаний на тестовой выборке"
   ]
  },
  {
   "cell_type": "code",
   "execution_count": 148,
   "metadata": {
    "collapsed": false
   },
   "outputs": [
    {
     "data": {
      "text/plain": [
       "LogisticRegression(C=0.01, class_weight=None, dual=False, fit_intercept=True,\n",
       "          intercept_scaling=1, max_iter=100, multi_class='ovr', n_jobs=1,\n",
       "          penalty='l2', random_state=None, solver='liblinear', tol=0.0001,\n",
       "          verbose=0, warm_start=False)"
      ]
     },
     "execution_count": 148,
     "metadata": {},
     "output_type": "execute_result"
    }
   ],
   "source": [
    "clf = LogisticRegression(C=0.01)\n",
    "clf.fit(xs_with_pick, np.ravel(y))"
   ]
  },
  {
   "cell_type": "code",
   "execution_count": 182,
   "metadata": {
    "collapsed": true
   },
   "outputs": [],
   "source": [
    "x_test = pd.read_csv(\"data/features_test.csv\", index_col='match_id')"
   ]
  },
  {
   "cell_type": "code",
   "execution_count": 183,
   "metadata": {
    "collapsed": true
   },
   "outputs": [],
   "source": [
    "x_test = x_test.fillna(0)"
   ]
  },
  {
   "cell_type": "code",
   "execution_count": 184,
   "metadata": {
    "collapsed": true
   },
   "outputs": [],
   "source": [
    "xs_test = scaler.fit_transform(x_test)"
   ]
  },
  {
   "cell_type": "code",
   "execution_count": 185,
   "metadata": {
    "collapsed": false
   },
   "outputs": [],
   "source": [
    "x_test_pick = np.zeros((x_test.shape[0], N))\n",
    "\n",
    "for i, match_id in enumerate(x_test.index):\n",
    "    for p in range(5):\n",
    "        x_test_pick[i, x_test.ix[match_id, 'r%d_hero' % (p+1)]-1] = 1\n",
    "        x_test_pick[i, x_test.ix[match_id, 'd%d_hero' % (p+1)]-1] = -1"
   ]
  },
  {
   "cell_type": "code",
   "execution_count": 186,
   "metadata": {
    "collapsed": false
   },
   "outputs": [],
   "source": [
    "x_test_nocat = x_test.drop(category_features, 1)\n",
    "xs_test_nocat = scaler.fit_transform(x_test_nocat)"
   ]
  },
  {
   "cell_type": "code",
   "execution_count": 187,
   "metadata": {
    "collapsed": true
   },
   "outputs": [],
   "source": [
    "xs_test_with_pick = np.concatenate((xs_test_nocat, x_test_pick), axis=1)"
   ]
  },
  {
   "cell_type": "code",
   "execution_count": 199,
   "metadata": {
    "collapsed": false
   },
   "outputs": [],
   "source": [
    "test_predicts = clf.predict_proba(xs_test_with_pick)[:, 1]"
   ]
  },
  {
   "cell_type": "code",
   "execution_count": 201,
   "metadata": {
    "collapsed": false
   },
   "outputs": [],
   "source": [
    "result = np.zeros((x_test.shape[0], 2))\n",
    "\n",
    "for i, match_id in enumerate(x_test.index):\n",
    "    result[i, 0] = match_id\n",
    "    result[i, 1] = test_predicts[i]\n",
    "    "
   ]
  },
  {
   "cell_type": "code",
   "execution_count": 211,
   "metadata": {
    "collapsed": false
   },
   "outputs": [],
   "source": [
    "result_df = pd.DataFrame(result, columns=['match_id','radiant_win'])\n",
    "result_df[['match_id']] = result_df[['match_id']].astype(int)"
   ]
  },
  {
   "cell_type": "code",
   "execution_count": 212,
   "metadata": {
    "collapsed": false
   },
   "outputs": [],
   "source": [
    "result_df.to_csv(\"test_for_kaggle.csv\", index=False)"
   ]
  },
  {
   "cell_type": "code",
   "execution_count": 219,
   "metadata": {
    "collapsed": false
   },
   "outputs": [
    {
     "data": {
      "text/plain": [
       "0.9959831732360146"
      ]
     },
     "execution_count": 219,
     "metadata": {},
     "output_type": "execute_result"
    }
   ],
   "source": [
    "test_predicts.max()"
   ]
  },
  {
   "cell_type": "code",
   "execution_count": 220,
   "metadata": {
    "collapsed": false
   },
   "outputs": [
    {
     "data": {
      "text/plain": [
       "0.0084426161409553949"
      ]
     },
     "execution_count": 220,
     "metadata": {},
     "output_type": "execute_result"
    }
   ],
   "source": [
    "test_predicts.min()"
   ]
  },
  {
   "cell_type": "code",
   "execution_count": null,
   "metadata": {
    "collapsed": true
   },
   "outputs": [],
   "source": []
  }
 ],
 "metadata": {
  "kernelspec": {
   "display_name": "Python 2",
   "language": "python",
   "name": "python2"
  },
  "language_info": {
   "codemirror_mode": {
    "name": "ipython",
    "version": 2
   },
   "file_extension": ".py",
   "mimetype": "text/x-python",
   "name": "python",
   "nbconvert_exporter": "python",
   "pygments_lexer": "ipython2",
   "version": "2.7.11"
  }
 },
 "nbformat": 4,
 "nbformat_minor": 0
}

{
 "cells": [
  {
   "cell_type": "markdown",
   "metadata": {},
   "source": [
    "### Импорт данных для обучения"
   ]
  },
  {
   "cell_type": "code",
   "execution_count": 7,
   "metadata": {
    "collapsed": false
   },
   "outputs": [],
   "source": [
    "import pandas as pd\n",
    "features = pd.read_csv('../../data/features.csv', index_col='match_id')"
   ]
  },
  {
   "cell_type": "markdown",
   "metadata": {
    "collapsed": false
   },
   "source": [
    "### Подготовка признаков для обучения"
   ]
  },
  {
   "cell_type": "markdown",
   "metadata": {
    "collapsed": true
   },
   "source": [
    "#### Удаление признаков, связанных с итогами матча "
   ]
  },
  {
   "cell_type": "code",
   "execution_count": 8,
   "metadata": {
    "collapsed": true
   },
   "outputs": [],
   "source": [
    "final_feature_names = ['duration',\n",
    "                       'radiant_win',\n",
    "                       'tower_status_radiant',\n",
    "                       'tower_status_dire',\n",
    "                       'barracks_status_radiant',\n",
    "                       'barracks_status_dire']"
   ]
  },
  {
   "cell_type": "code",
   "execution_count": 14,
   "metadata": {
    "collapsed": false
   },
   "outputs": [
    {
     "name": "stdout",
     "output_type": "stream",
     "text": [
      "(97230, 102)\n"
     ]
    }
   ],
   "source": [
    "x = features.copy()\n",
    "x = x.drop(final_feature_names, 1)\n",
    "print (x.shape)"
   ]
  },
  {
   "cell_type": "markdown",
   "metadata": {},
   "source": [
    "#### Обработка пропусков"
   ]
  },
  {
   "cell_type": "markdown",
   "metadata": {},
   "source": [
    "##### Поиск пропусков"
   ]
  },
  {
   "cell_type": "code",
   "execution_count": 17,
   "metadata": {
    "collapsed": true
   },
   "outputs": [],
   "source": [
    "feature_names = list(x.columns.values)\n",
    "object_count, feature_count = x.shape"
   ]
  },
  {
   "cell_type": "code",
   "execution_count": 18,
   "metadata": {
    "collapsed": false
   },
   "outputs": [
    {
     "name": "stdout",
     "output_type": "stream",
     "text": [
      "first_blood_time: 19553\n",
      "first_blood_team: 19553\n",
      "first_blood_player1: 19553\n",
      "first_blood_player2: 43987\n",
      "radiant_bottle_time: 15691\n",
      "radiant_courier_time: 692\n",
      "radiant_flying_courier_time: 27479\n",
      "radiant_first_ward_time: 1836\n",
      "dire_bottle_time: 16143\n",
      "dire_courier_time: 676\n",
      "dire_flying_courier_time: 26098\n",
      "dire_first_ward_time: 1826\n"
     ]
    }
   ],
   "source": [
    "for i, nonempty_count in enumerate(x.count()):\n",
    "    feature_name = feature_names[i]\n",
    "    empty_count = object_count - nonempty_count\n",
    "    if empty_count > 0:\n",
    "        print(\"%s: %s\" % (feature_name, empty_count))"
   ]
  },
  {
   "cell_type": "markdown",
   "metadata": {},
   "source": [
    "##### Объяснение возможных причин пропусков\n",
    "\n",
    "* `first_blood_time` / `first_blood_team` / `first_blood_player1` - в течение первых пяти минут игроков не атаковали. При этом `first_blood_player2` больше, чем `first_blood_player1`, видимо, из-за того, что иногда первая кровь проливается в результате атак неигровых персонажей.\n",
    "* Остальные пропуски говорят о том, что предметы, соответствующие колонкам, не использовались в течение первых пяти минут."
   ]
  },
  {
   "cell_type": "markdown",
   "metadata": {},
   "source": [
    "##### Заполнение пропусков"
   ]
  },
  {
   "cell_type": "code",
   "execution_count": 79,
   "metadata": {
    "collapsed": false
   },
   "outputs": [],
   "source": [
    "x = x.fillna(0)"
   ]
  },
  {
   "cell_type": "markdown",
   "metadata": {},
   "source": [
    "#### Подготовка целевых переменных\n",
    "\n",
    "Целевой признак -- `radiant_win`. Он уже представляет собой результат принадлежности к классам 1 (победила команда Radiant) и 0."
   ]
  },
  {
   "cell_type": "code",
   "execution_count": 80,
   "metadata": {
    "collapsed": false
   },
   "outputs": [],
   "source": [
    "y = features[['radiant_win']]\n",
    "y= y.fillna(0)"
   ]
  },
  {
   "cell_type": "markdown",
   "metadata": {},
   "source": [
    "### Обучение классификатора методом градиентного бустинга"
   ]
  },
  {
   "cell_type": "markdown",
   "metadata": {},
   "source": [
    "#### Фиксация генератора кроссвалидации"
   ]
  },
  {
   "cell_type": "code",
   "execution_count": 81,
   "metadata": {
    "collapsed": false
   },
   "outputs": [],
   "source": [
    "from sklearn.cross_validation import KFold\n",
    "cv = KFold(object_count, n_folds=5, shuffle=True)"
   ]
  },
  {
   "cell_type": "markdown",
   "metadata": {},
   "source": [
    "#### Обучение классификаторов с различным числом деревьев"
   ]
  },
  {
   "cell_type": "code",
   "execution_count": 87,
   "metadata": {
    "collapsed": true
   },
   "outputs": [],
   "source": [
    "estimator_counts = [5, 10, 20, 30, 40, 50, 60, 70]"
   ]
  },
  {
   "cell_type": "code",
   "execution_count": 88,
   "metadata": {
    "collapsed": false
   },
   "outputs": [
    {
     "name": "stdout",
     "output_type": "stream",
     "text": [
      "Число деревьев: 5, roc_auc_score: 0.637692222727, потраченное время: 0:00:46.020904\n",
      "Число деревьев: 10, roc_auc_score: 0.66481205258, потраченное время: 0:01:30.978426\n",
      "Число деревьев: 20, roc_auc_score: 0.682163592411, потраченное время: 0:02:25.018179\n",
      "Число деревьев: 30, roc_auc_score: 0.68976836288, потраченное время: 0:03:41.077739\n",
      "Число деревьев: 40, roc_auc_score: 0.69390842716, потраченное время: 0:05:04.617792\n",
      "Число деревьев: 50, roc_auc_score: 0.6972792474, потраченное время: 0:06:07.577189\n",
      "Число деревьев: 60, roc_auc_score: 0.70025352081, потраченное время: 0:07:35.930460\n",
      "Число деревьев: 70, roc_auc_score: 0.70234497865, потраченное время: 0:08:32.394232\n"
     ]
    }
   ],
   "source": [
    "import numpy as np\n",
    "from sklearn.ensemble import GradientBoostingClassifier\n",
    "from sklearn.metrics import roc_auc_score\n",
    "import time\n",
    "import datetime\n",
    "\n",
    "def calc_score(n, train_index, test_index):\n",
    "    x_train = x.values[train_index]\n",
    "    x_test = x.values[test_index]\n",
    "    y_train = y.values[train_index]\n",
    "    y_test = y.values[test_index]\n",
    "    \n",
    "    clf = GradientBoostingClassifier(n_estimators=n)\n",
    "    \n",
    "    clf.fit(x_train, np.ravel(y_train))    \n",
    "    predict = clf.predict_proba(x_test)[:, 1]   \n",
    "    return roc_auc_score(y_test, predict)\n",
    "\n",
    "\n",
    "\n",
    "for n_estimators in estimator_counts:\n",
    "    \n",
    "    start_time = datetime.datetime.now()\n",
    "    \n",
    "    scores = [ calc_score(n_estimators, train_index, test_index) for train_index, test_index in cv ]\n",
    "    score = np.array(scores).mean()\n",
    "    \n",
    "    end_time = datetime.datetime.now()\n",
    "    \n",
    "    total_time = end_time - start_time\n",
    "    \n",
    "    print(\"Число деревьев: %s, roc_auc_score: %s, потраченное время: %s\" % (n_estimators, score, total_time))\n",
    "    "
   ]
  },
  {
   "cell_type": "markdown",
   "metadata": {},
   "source": [
    "### Обучение классификатора методом логистической регрессии\n",
    "\n",
    "#### Нормализация признаков"
   ]
  },
  {
   "cell_type": "code",
   "execution_count": 110,
   "metadata": {
    "collapsed": true
   },
   "outputs": [],
   "source": [
    "from sklearn.preprocessing import StandardScaler\n",
    "scaler = StandardScaler()\n",
    "\n",
    "xs = scaler.fit_transform(x)"
   ]
  },
  {
   "cell_type": "markdown",
   "metadata": {},
   "source": [
    "#### Наивное применение логистической регрессии"
   ]
  },
  {
   "cell_type": "code",
   "execution_count": 142,
   "metadata": {
    "collapsed": true
   },
   "outputs": [],
   "source": [
    "from sklearn.linear_model import LogisticRegression\n",
    "regularizations = [0.000001, 0.00001, 0.0001, 0.001, 0.01, 0.1, 1]\n",
    "\n",
    "def calc_score_log(xs, c, train_index, test_index):\n",
    "    x_train = xs[train_index]\n",
    "    x_test = xs[test_index]\n",
    "    y_train = y.values[train_index]\n",
    "    y_test = y.values[test_index]\n",
    "    \n",
    "    clf = LogisticRegression(C=c)\n",
    "    \n",
    "    clf.fit(x_train, np.ravel(y_train))    \n",
    "    predict = clf.predict_proba(x_test)[:, 1] \n",
    "    return roc_auc_score(y_test, predict)\n",
    "\n",
    "def estimate_quality(xs):\n",
    "    \n",
    "    for c in regularizations:\n",
    "    \n",
    "        start_time = datetime.datetime.now()\n",
    "    \n",
    "        scores = [ calc_score_log(xs, c, train_index, test_index) for train_index, test_index in cv ]\n",
    "        score = np.array(scores).mean()\n",
    "    \n",
    "        end_time = datetime.datetime.now()\n",
    "    \n",
    "        total_time = end_time - start_time\n",
    "    \n",
    "        print(\"Параметр регуляризации: %s, roc_auc_score: %s, потраченное время: %s\" % (c, score, total_time))\n",
    "    \n"
   ]
  },
  {
   "cell_type": "code",
   "execution_count": 143,
   "metadata": {
    "collapsed": false
   },
   "outputs": [
    {
     "name": "stdout",
     "output_type": "stream",
     "text": [
      "Параметр регуляризации: 1e-06, roc_auc_score: 0.688157064162, потраченное время: 0:00:02.190491\n",
      "Параметр регуляризации: 1e-05, roc_auc_score: 0.69511033873, потраченное время: 0:00:02.663115\n",
      "Параметр регуляризации: 0.0001, roc_auc_score: 0.711273245394, потраченное время: 0:00:04.859270\n",
      "Параметр регуляризации: 0.001, roc_auc_score: 0.716227416551, потраченное время: 0:00:08.206036\n",
      "Параметр регуляризации: 0.01, roc_auc_score: 0.716405753214, потраченное время: 0:00:10.969634\n",
      "Параметр регуляризации: 0.1, roc_auc_score: 0.716381511454, потраченное время: 0:00:11.830624\n",
      "Параметр регуляризации: 1, roc_auc_score: 0.716377111398, потраченное время: 0:00:11.830034\n"
     ]
    }
   ],
   "source": [
    "estimate_quality(xs)"
   ]
  },
  {
   "cell_type": "markdown",
   "metadata": {},
   "source": [
    "#### Логистическая регрессия с отброшенными категориальными признаками"
   ]
  },
  {
   "cell_type": "code",
   "execution_count": 113,
   "metadata": {
    "collapsed": true
   },
   "outputs": [],
   "source": [
    " category_features = ['lobby_type',\n",
    "                      'r1_hero',\n",
    "                      'r2_hero',\n",
    "                      'r3_hero',\n",
    "                      'r4_hero',\n",
    "                      'r5_hero',\n",
    "                      'd1_hero',\n",
    "                      'd2_hero',\n",
    "                      'd3_hero',\n",
    "                      'd4_hero',\n",
    "                      'd5_hero']"
   ]
  },
  {
   "cell_type": "code",
   "execution_count": 114,
   "metadata": {
    "collapsed": true
   },
   "outputs": [],
   "source": [
    "x_nocat = x.drop(category_features, 1)\n",
    "xs_nocat = scaler.fit_transform(x_nocat)"
   ]
  },
  {
   "cell_type": "code",
   "execution_count": 144,
   "metadata": {
    "collapsed": false
   },
   "outputs": [
    {
     "name": "stdout",
     "output_type": "stream",
     "text": [
      "Параметр регуляризации: 1e-06, roc_auc_score: 0.688118038843, потраченное время: 0:00:02.223775\n",
      "Параметр регуляризации: 1e-05, roc_auc_score: 0.695058785685, потраченное время: 0:00:02.519543\n",
      "Параметр регуляризации: 0.0001, roc_auc_score: 0.711269124907, потраченное время: 0:00:04.097343\n",
      "Параметр регуляризации: 0.001, roc_auc_score: 0.716264093138, потраченное время: 0:00:07.194395\n",
      "Параметр регуляризации: 0.01, roc_auc_score: 0.716440604248, потраченное время: 0:00:10.561252\n",
      "Параметр регуляризации: 0.1, roc_auc_score: 0.716418963367, потраченное время: 0:00:10.900348\n",
      "Параметр регуляризации: 1, roc_auc_score: 0.716415126347, потраченное время: 0:00:10.873947\n"
     ]
    }
   ],
   "source": [
    "estimate_quality(xs_nocat)"
   ]
  },
  {
   "cell_type": "markdown",
   "metadata": {},
   "source": [
    "#### Поиск числа различных значений для категориальных параметров"
   ]
  },
  {
   "cell_type": "code",
   "execution_count": 127,
   "metadata": {
    "collapsed": false
   },
   "outputs": [
    {
     "data": {
      "text/plain": [
       "{'d1_hero': 108,\n",
       " 'd2_hero': 108,\n",
       " 'd3_hero': 108,\n",
       " 'd4_hero': 108,\n",
       " 'd5_hero': 108,\n",
       " 'lobby_type': 3,\n",
       " 'r1_hero': 108,\n",
       " 'r2_hero': 108,\n",
       " 'r3_hero': 108,\n",
       " 'r4_hero': 108,\n",
       " 'r5_hero': 108}"
      ]
     },
     "execution_count": 127,
     "metadata": {},
     "output_type": "execute_result"
    }
   ],
   "source": [
    "feature_value_counts = {feature_name: x[feature_name].value_counts().count() for feature_name in category_features}\n",
    "feature_value_counts"
   ]
  },
  {
   "cell_type": "code",
   "execution_count": 134,
   "metadata": {
    "collapsed": false
   },
   "outputs": [
    {
     "data": {
      "text/plain": [
       "{'d1_hero': 112,\n",
       " 'd2_hero': 112,\n",
       " 'd3_hero': 112,\n",
       " 'd4_hero': 112,\n",
       " 'd5_hero': 112,\n",
       " 'lobby_type': 7,\n",
       " 'r1_hero': 112,\n",
       " 'r2_hero': 112,\n",
       " 'r3_hero': 112,\n",
       " 'r4_hero': 112,\n",
       " 'r5_hero': 112}"
      ]
     },
     "execution_count": 134,
     "metadata": {},
     "output_type": "execute_result"
    }
   ],
   "source": [
    "feature_value_max = {feature_name: x[feature_name].max() for feature_name in category_features}\n",
    "feature_value_max"
   ]
  },
  {
   "cell_type": "markdown",
   "metadata": {},
   "source": [
    "#### Формирование \"мешка слов\" для категориальных атрибутов"
   ]
  },
  {
   "cell_type": "code",
   "execution_count": 135,
   "metadata": {
    "collapsed": true
   },
   "outputs": [],
   "source": [
    "N = feature_value_max['d1_hero']"
   ]
  },
  {
   "cell_type": "code",
   "execution_count": 136,
   "metadata": {
    "collapsed": false
   },
   "outputs": [],
   "source": [
    "x_pick = np.zeros((x.shape[0], N))\n",
    "\n",
    "for i, match_id in enumerate(x.index):\n",
    "    for p in range(5):\n",
    "        x_pick[i, x.ix[match_id, 'r%d_hero' % (p+1)]-1] = 1\n",
    "        x_pick[i, x.ix[match_id, 'd%d_hero' % (p+1)]-1] = -1"
   ]
  },
  {
   "cell_type": "code",
   "execution_count": 137,
   "metadata": {
    "collapsed": false
   },
   "outputs": [],
   "source": [
    "xs_with_pick = np.concatenate((xs_nocat, x_pick), axis=1)"
   ]
  },
  {
   "cell_type": "markdown",
   "metadata": {},
   "source": [
    "#### Логистическая регрессия с учтенными категориальными признаками выбора героев"
   ]
  },
  {
   "cell_type": "code",
   "execution_count": 145,
   "metadata": {
    "collapsed": false
   },
   "outputs": [
    {
     "name": "stdout",
     "output_type": "stream",
     "text": [
      "Параметр регуляризации: 1e-06, roc_auc_score: 0.690524386083, потраченное время: 0:00:02.794391\n",
      "Параметр регуляризации: 1e-05, roc_auc_score: 0.699164568284, потраченное время: 0:00:02.729763\n",
      "Параметр регуляризации: 0.0001, roc_auc_score: 0.724975262764, потраченное время: 0:00:04.514812\n",
      "Параметр регуляризации: 0.001, roc_auc_score: 0.746178863255, потраченное время: 0:00:10.579424\n",
      "Параметр регуляризации: 0.01, roc_auc_score: 0.751583538335, потраченное время: 0:00:18.151374\n",
      "Параметр регуляризации: 0.1, roc_auc_score: 0.751782706497, потраченное время: 0:00:23.608528\n",
      "Параметр регуляризации: 1, roc_auc_score: 0.751764180698, потраченное время: 0:00:25.206241\n"
     ]
    }
   ],
   "source": [
    "estimate_quality(xs_with_pick)"
   ]
  },
  {
   "cell_type": "markdown",
   "metadata": {},
   "source": [
    "### Подсчет предсказаний на тестовой выборке"
   ]
  },
  {
   "cell_type": "code",
   "execution_count": 148,
   "metadata": {
    "collapsed": false
   },
   "outputs": [
    {
     "data": {
      "text/plain": [
       "LogisticRegression(C=0.01, class_weight=None, dual=False, fit_intercept=True,\n",
       "          intercept_scaling=1, max_iter=100, multi_class='ovr', n_jobs=1,\n",
       "          penalty='l2', random_state=None, solver='liblinear', tol=0.0001,\n",
       "          verbose=0, warm_start=False)"
      ]
     },
     "execution_count": 148,
     "metadata": {},
     "output_type": "execute_result"
    }
   ],
   "source": [
    "clf = LogisticRegression(C=0.01)\n",
    "clf.fit(xs_with_pick, np.ravel(y))"
   ]
  },
  {
   "cell_type": "code",
   "execution_count": 182,
   "metadata": {
    "collapsed": true
   },
   "outputs": [],
   "source": [
    "x_test = pd.read_csv(\"data/features_test.csv\", index_col='match_id')"
   ]
  },
  {
   "cell_type": "code",
   "execution_count": 183,
   "metadata": {
    "collapsed": true
   },
   "outputs": [],
   "source": [
    "x_test = x_test.fillna(0)"
   ]
  },
  {
   "cell_type": "code",
   "execution_count": 184,
   "metadata": {
    "collapsed": true
   },
   "outputs": [],
   "source": [
    "xs_test = scaler.fit_transform(x_test)"
   ]
  },
  {
   "cell_type": "code",
   "execution_count": 185,
   "metadata": {
    "collapsed": false
   },
   "outputs": [],
   "source": [
    "x_test_pick = np.zeros((x_test.shape[0], N))\n",
    "\n",
    "for i, match_id in enumerate(x_test.index):\n",
    "    for p in range(5):\n",
    "        x_test_pick[i, x_test.ix[match_id, 'r%d_hero' % (p+1)]-1] = 1\n",
    "        x_test_pick[i, x_test.ix[match_id, 'd%d_hero' % (p+1)]-1] = -1"
   ]
  },
  {
   "cell_type": "code",
   "execution_count": 186,
   "metadata": {
    "collapsed": false
   },
   "outputs": [],
   "source": [
    "x_test_nocat = x_test.drop(category_features, 1)\n",
    "xs_test_nocat = scaler.fit_transform(x_test_nocat)"
   ]
  },
  {
   "cell_type": "code",
   "execution_count": 187,
   "metadata": {
    "collapsed": true
   },
   "outputs": [],
   "source": [
    "xs_test_with_pick = np.concatenate((xs_test_nocat, x_test_pick), axis=1)"
   ]
  },
  {
   "cell_type": "code",
   "execution_count": 199,
   "metadata": {
    "collapsed": false
   },
   "outputs": [],
   "source": [
    "test_predicts = clf.predict_proba(xs_test_with_pick)[:, 1]"
   ]
  },
  {
   "cell_type": "code",
   "execution_count": 201,
   "metadata": {
    "collapsed": false
   },
   "outputs": [],
   "source": [
    "result = np.zeros((x_test.shape[0], 2))\n",
    "\n",
    "for i, match_id in enumerate(x_test.index):\n",
    "    result[i, 0] = match_id\n",
    "    result[i, 1] = test_predicts[i]\n",
    "    "
   ]
  },
  {
   "cell_type": "code",
   "execution_count": 211,
   "metadata": {
    "collapsed": false
   },
   "outputs": [],
   "source": [
    "result_df = pd.DataFrame(result, columns=['match_id','radiant_win'])\n",
    "result_df[['match_id']] = result_df[['match_id']].astype(int)"
   ]
  },
  {
   "cell_type": "code",
   "execution_count": 212,
   "metadata": {
    "collapsed": false
   },
   "outputs": [],
   "source": [
    "result_df.to_csv(\"test_for_kaggle.csv\", index=False)"
   ]
  },
  {
   "cell_type": "code",
   "execution_count": 219,
   "metadata": {
    "collapsed": false
   },
   "outputs": [
    {
     "data": {
      "text/plain": [
       "0.9959831732360146"
      ]
     },
     "execution_count": 219,
     "metadata": {},
     "output_type": "execute_result"
    }
   ],
   "source": [
    "test_predicts.max()"
   ]
  },
  {
   "cell_type": "code",
   "execution_count": 220,
   "metadata": {
    "collapsed": false
   },
   "outputs": [
    {
     "data": {
      "text/plain": [
       "0.0084426161409553949"
      ]
     },
     "execution_count": 220,
     "metadata": {},
     "output_type": "execute_result"
    }
   ],
   "source": [
    "test_predicts.min()"
   ]
  },
  {
   "cell_type": "code",
   "execution_count": null,
   "metadata": {
    "collapsed": true
   },
   "outputs": [],
   "source": []
  }
 ],
 "metadata": {
  "kernelspec": {
   "display_name": "Python 2",
   "language": "python",
   "name": "python2"
  },
  "language_info": {
   "codemirror_mode": {
    "name": "ipython",
    "version": 2
   },
   "file_extension": ".py",
   "mimetype": "text/x-python",
   "name": "python",
   "nbconvert_exporter": "python",
   "pygments_lexer": "ipython2",
   "version": "2.7.11"
  }
 },
 "nbformat": 4,
 "nbformat_minor": 0
}

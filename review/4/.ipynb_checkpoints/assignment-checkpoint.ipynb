{
 "cells": [
  {
   "cell_type": "code",
   "execution_count": 2,
   "metadata": {
    "collapsed": false
   },
   "outputs": [],
   "source": [
    "%matplotlib inline\n",
    "\n",
    "from matplotlib import pyplot as plt\n",
    "import pandas\n",
    "import numpy as np\n",
    "\n",
    "data = pandas.read_csv('../../data/features.csv', index_col='match_id')\n",
    "y = data['radiant_win']"
   ]
  },
  {
   "cell_type": "code",
   "execution_count": 3,
   "metadata": {
    "collapsed": true
   },
   "outputs": [],
   "source": [
    "import re\n",
    "from datetime import datetime\n",
    "\n",
    "from sklearn.cross_validation import KFold\n",
    "from sklearn.grid_search import GridSearchCV\n",
    "\n",
    "def remove_future_features(data):\n",
    "    cols_to_remove = ['duration', 'radiant_win', 'tower_status_radiant', 'tower_status_dire',\n",
    "                      'barracks_status_radiant', 'barracks_status_dire']\n",
    "    \n",
    "    data.drop(cols_to_remove, axis=1, inplace=True)\n",
    "    \n",
    "def group_individual_player_features(data):\n",
    "    features_to_group = ['gold', 'lh', 'kills', 'deaths', 'items', 'level']\n",
    "\n",
    "    for feature in features_to_group:\n",
    "        for team, full_name in zip(('r', 'd'), ('radiant', 'dire')):\n",
    "            cols = ['{t}{n}_{ftr}'.format(t=team, n=i, ftr=feature) for i in xrange(1, 6)]\n",
    "            new_col_name = '{full_name}_{ftr}'.format(full_name=full_name, ftr=feature)\n",
    "            data[new_col_name] = np.mean(data[cols], axis=1)\n",
    "            \n",
    "def remove_redunant_features(data):\n",
    "    labels_to_drop = ['first_blood_player1', 'first_blood_player2', 'first_blood_time', 'start_time']\n",
    "    data.drop(labels_to_drop, axis=1, inplace=True)\n",
    "    \n",
    "def remove_individual_player_features(data):\n",
    "    # Remove individual player data (xp, lvl, gold, kills, items, deaths and lasthits)\n",
    "    expr = re.compile('^(r|d)\\d')\n",
    "    labels_to_drop = [col for col in data if expr.match(col) is not None]\n",
    "    \n",
    "    data.drop(labels_to_drop, axis=1, inplace=True)\n",
    "    \n",
    "def remove_categorial_features(data):\n",
    "    labels_to_drop = ['{t}{n}_hero'.format(t=t, n=i) for t in ('r', 'd') for i in xrange(1, 6)]\n",
    "    labels_to_drop.append('lobby_type')\n",
    "    data.drop(labels_to_drop, axis=1, inplace=True)\n",
    "    \n",
    "# A decorator for measuring function execution time\n",
    "def timeit(f):\n",
    "    \n",
    "    def timed(*args, **kwargs):\n",
    "        start = datetime.now()\n",
    "        res = f(*args, **kwargs)\n",
    "        delta = datetime.now() - start\n",
    "        print 'Function `{f.__name__}` exec time: {t}'.format(f=f, t=delta)\n",
    "        return res\n",
    "        \n",
    "    return timed\n",
    "\n",
    "def plot_scores(scores, title=None):\n",
    "    param_name = scores[0].parameters.keys()[0]\n",
    "    param_vals = [score.parameters[param_name] for score in scores]\n",
    "    vals = [score.mean_validation_score for score in scores]\n",
    "    \n",
    "    l = plt.plot(param_vals, vals, 'bo-')\n",
    "    if title is not None:\n",
    "        plt.title(title)\n",
    "    plt.xlabel(param_name)\n",
    "    plt.ylabel('ROC AUC')\n",
    "    plt.legend((l), ('cross-val score',), loc=4)"
   ]
  },
  {
   "cell_type": "code",
   "execution_count": 4,
   "metadata": {
    "collapsed": false
   },
   "outputs": [
    {
     "name": "stdout",
     "output_type": "stream",
     "text": [
      "Column                        filled %\n",
      "first_blood_time..............79.89\n",
      "first_blood_team..............79.89\n",
      "first_blood_player1...........79.89\n",
      "first_blood_player2...........54.76\n",
      "radiant_bottle_time...........83.86\n",
      "radiant_courier_time..........99.29\n",
      "radiant_flying_courier_time...71.74\n",
      "radiant_first_ward_time.......98.11\n",
      "dire_bottle_time..............83.40\n",
      "dire_courier_time.............99.30\n",
      "dire_flying_courier_time......73.16\n",
      "dire_first_ward_time..........98.12\n"
     ]
    }
   ],
   "source": [
    "# Finding columns with missing values\n",
    "\n",
    "def get_cols_with_missing_values(A):\n",
    "    n = A.shape[0]\n",
    "    vals = A.count().values\n",
    "    axes = A.count().axes[0]\n",
    "    \n",
    "    col_indexes = [(i, float(v) / n) for i, v in enumerate(vals) if v != n]\n",
    "    res = [(axes[i], v) for i, v in col_indexes]\n",
    "    return res\n",
    "\n",
    "data_copy = data.copy()\n",
    "\n",
    "remove_future_features(data_copy)\n",
    "\n",
    "cols_percents = get_cols_with_missing_values(data_copy)\n",
    "print '{:<30}{}'.format('Column', 'filled %')\n",
    "for col, filled in cols_percents:\n",
    "    print '{col:.<30}{prc:.2f}'.format(col=col, prc=filled * 100)"
   ]
  },
  {
   "cell_type": "code",
   "execution_count": 5,
   "metadata": {
    "collapsed": false
   },
   "outputs": [
    {
     "name": "stdout",
     "output_type": "stream",
     "text": [
      "Total unique heroes: 108\n"
     ]
    }
   ],
   "source": [
    "def get_X_pick(data):\n",
    "    heroes_labels = ['{t}{n}_hero'.format(t=t, n=n) for n in xrange(1, 6) for t in ('r', 'd')]\n",
    "    hero_ids = pandas.Series(data[heroes_labels].values.ravel()).unique()\n",
    "    \n",
    "    total_heroes = len(hero_ids)\n",
    "    print 'Total unique heroes: {}'.format(total_heroes)\n",
    "    \n",
    "    max_hero_id = hero_ids.max()\n",
    "    X_pick = np.zeros((data.shape[0], max_hero_id))\n",
    "\n",
    "    for i, match_id in enumerate(data.index):\n",
    "        for p in xrange(5):\n",
    "            X_pick[i, data.ix[match_id, 'r%d_hero' % (p+1)]-1] = 1\n",
    "            X_pick[i, data.ix[match_id, 'd%d_hero' % (p+1)]-1] = -1\n",
    "\n",
    "    return X_pick\n",
    "\n",
    "X_pick = get_X_pick(data)"
   ]
  },
  {
   "cell_type": "markdown",
   "metadata": {},
   "source": [
    "________\n",
    "# Approach 1: Gradient Boosting\n"
   ]
  },
  {
   "cell_type": "code",
   "execution_count": 5,
   "metadata": {
    "collapsed": true
   },
   "outputs": [],
   "source": [
    "from sklearn.ensemble import GradientBoostingClassifier\n",
    "\n",
    "@timeit\n",
    "def gradient_boosting(X, y, **grid_params):\n",
    "    fold = KFold(X.shape[0], n_folds=5, shuffle=True, random_state=1337)\n",
    "    gbc = GradientBoostingClassifier(random_state=1337)\n",
    "    clf = GridSearchCV(estimator=gbc, param_grid=grid_params, scoring='roc_auc', cv=fold, n_jobs=4, verbose=2)\n",
    "    clf.fit(X, y)\n",
    "    return clf"
   ]
  },
  {
   "cell_type": "code",
   "execution_count": 6,
   "metadata": {
    "collapsed": false
   },
   "outputs": [],
   "source": [
    "data_1 = data.copy()\n",
    "\n",
    "remove_future_features(data_1)\n",
    "data_1.fillna(0, inplace=True)\n",
    "X_1 = data_1.values"
   ]
  },
  {
   "cell_type": "code",
   "execution_count": 7,
   "metadata": {
    "collapsed": false
   },
   "outputs": [
    {
     "name": "stdout",
     "output_type": "stream",
     "text": [
      "Fitting 5 folds for each of 5 candidates, totalling 25 fits\n",
      "Function `gradient_boosting` exec time: 0:12:52.372658\n",
      "[CV] n_estimators=10 .................................................\n",
      "[CV] n_estimators=10 .................................................\n",
      "[CV] n_estimators=10 .................................................\n",
      "[CV] n_estimators=10 .................................................\n",
      "[CV] ........................................ n_estimators=10 -  30.3s[CV] ........................................ n_estimators=10 -  32.3s[CV] ........................................ n_estimators=10 -  31.6s[CV] ........................................ n_estimators=10 -  31.9s\n",
      "\n",
      "\n",
      "\n",
      "[CV] n_estimators=10 .................................................\n",
      "[CV] n_estimators=20 .................................................\n",
      "[CV] n_estimators=20 .................................................\n",
      "[CV] n_estimators=20 .................................................\n",
      "[CV] ........................................ n_estimators=10 -  24.5s[CV] ........................................ n_estimators=20 -  51.0s[CV] ........................................ n_estimators=20 -  49.4s[CV] ........................................ n_estimators=20 -  50.7s\n",
      "\n",
      "\n",
      "\n",
      "[CV] n_estimators=20 .................................................\n",
      "[CV] n_estimators=30 .................................................\n",
      "[CV] n_estimators=20 .................................................\n",
      "[CV] n_estimators=30 .................................................\n",
      "[CV] ........................................ n_estimators=20 -  49.7s[CV] ........................................ n_estimators=30 - 1.2min[CV] ........................................ n_estimators=20 -  49.5s[CV] ........................................ n_estimators=30 - 1.3min\n",
      "\n",
      "\n",
      "\n",
      "[CV] n_estimators=30 .................................................\n",
      "[CV] n_estimators=30 .................................................\n",
      "[CV] n_estimators=30 .................................................\n",
      "[CV] n_estimators=50 .................................................\n",
      "[CV] ........................................ n_estimators=30 - 1.3min[CV] ........................................ n_estimators=30 - 1.2min[CV] ........................................ n_estimators=30 - 1.3min[CV] ........................................ n_estimators=50 - 2.0min\n",
      "\n",
      "\n",
      "\n",
      "[CV] n_estimators=50 .................................................\n",
      "[CV] n_estimators=50 .................................................\n",
      "[CV] n_estimators=50 .................................................\n",
      "[CV] n_estimators=50 .................................................\n",
      "[CV] ........................................ n_estimators=50 - 2.1min[CV] ........................................ n_estimators=50 - 2.1min[CV] ........................................ n_estimators=50 - 2.1min[CV] ........................................ n_estimators=50 - 2.1min\n",
      "\n",
      "\n",
      "\n",
      "[CV] n_estimators=100 ................................................\n",
      "[CV] n_estimators=100 ................................................\n",
      "[CV] n_estimators=100 ................................................\n",
      "[CV] n_estimators=100 ................................................\n",
      "[CV] ....................................... n_estimators=100 - 4.1min[CV] ....................................... n_estimators=100 - 4.1min[CV] ....................................... n_estimators=100 - 4.2min[CV] ....................................... n_estimators=100 - 3.7min\n",
      "\n",
      "\n",
      "\n",
      "[CV] n_estimators=100 ................................................\n",
      "[CV] ....................................... n_estimators=100 - 2.1min\n"
     ]
    },
    {
     "name": "stderr",
     "output_type": "stream",
     "text": [
      "[Parallel(n_jobs=4)]: Done  25 out of  25 | elapsed: 11.3min finished\n"
     ]
    }
   ],
   "source": [
    "scores_gb1 = gradient_boosting(X_1, y, n_estimators=[10, 20, 30, 50, 100]).grid_scores_"
   ]
  },
  {
   "cell_type": "code",
   "execution_count": 8,
   "metadata": {
    "collapsed": false,
    "scrolled": true
   },
   "outputs": [
    {
     "data": {
      "text/plain": [
       "[mean: 0.66422, std: 0.00401, params: {'n_estimators': 10},\n",
       " mean: 0.68171, std: 0.00295, params: {'n_estimators': 20},\n",
       " mean: 0.68947, std: 0.00242, params: {'n_estimators': 30},\n",
       " mean: 0.69753, std: 0.00208, params: {'n_estimators': 50},\n",
       " mean: 0.70681, std: 0.00241, params: {'n_estimators': 100}]"
      ]
     },
     "execution_count": 8,
     "metadata": {},
     "output_type": "execute_result"
    },
    {
     "data": {
      "image/png": "[encoded data removed]",
      "text/plain": [
       "<matplotlib.figure.Figure at 0x7faa234ff7d0>"
      ]
     },
     "metadata": {},
     "output_type": "display_data"
    }
   ],
   "source": [
    "plot_scores(scores_gb1, 'GB w/o feature engineering')\n",
    "scores_gb1"
   ]
  },
  {
   "cell_type": "markdown",
   "metadata": {
    "collapsed": true
   },
   "source": [
    "__________\n",
    "# Approach 2: Logistic Regression"
   ]
  },
  {
   "cell_type": "code",
   "execution_count": 9,
   "metadata": {
    "collapsed": false
   },
   "outputs": [],
   "source": [
    "from sklearn.linear_model import LogisticRegression\n",
    "from sklearn.preprocessing import StandardScaler\n",
    "\n",
    "@timeit\n",
    "def logistic_regression(X, y, **grid_params):\n",
    "    X = StandardScaler().fit_transform(X)\n",
    "    fold = KFold(X.shape[0], n_folds=5)\n",
    "    est = LogisticRegression(penalty='l2', random_state=1337)\n",
    "    \n",
    "    clf = GridSearchCV(est, param_grid=grid_params, cv=fold, n_jobs=4, scoring='roc_auc', verbose=2)\n",
    "    clf.fit(X, y)\n",
    "    return clf"
   ]
  },
  {
   "cell_type": "code",
   "execution_count": 10,
   "metadata": {
    "collapsed": false,
    "scrolled": true
   },
   "outputs": [
    {
     "name": "stdout",
     "output_type": "stream",
     "text": [
      "Fitting 5 folds for each of 20 candidates, totalling 100 fits\n"
     ]
    },
    {
     "name": "stderr",
     "output_type": "stream",
     "text": [
      "[Parallel(n_jobs=4)]: Done  33 tasks      | elapsed:    5.3s\n",
      "[Parallel(n_jobs=4)]: Done 100 out of 100 | elapsed:   26.6s finished\n"
     ]
    },
    {
     "name": "stdout",
     "output_type": "stream",
     "text": [
      "Function `logistic_regression` exec time: 0:00:28.348102\n",
      "[CV] C=1e-10 .........................................................\n",
      "[CV] C=1e-10 .........................................................\n",
      "[CV] C=1e-10 .........................................................\n",
      "[CV] C=1e-10 .........................................................\n",
      "[CV] ................................................ C=1e-10 -   0.5s[CV] ................................................ C=1e-10 -   0.5s[CV] ................................................ C=1e-10 -   0.5s[CV] ................................................ C=1e-10 -   0.5s\n",
      "\n",
      "\n",
      "\n",
      "[CV] C=2.33572146909e-10 .............................................\n",
      "[CV] C=1e-10 .........................................................\n",
      "[CV] C=2.33572146909e-10 .............................................\n",
      "[CV] C=2.33572146909e-10 .............................................\n",
      "[CV] .................................... C=2.33572146909e-10 -   0.5s[CV] ................................................ C=1e-10 -   0.5s[CV] .................................... C=2.33572146909e-10 -   0.5s[CV] .................................... C=2.33572146909e-10 -   0.5s\n",
      "\n",
      "\n",
      "\n",
      "[CV] C=2.33572146909e-10 .............................................\n",
      "[CV] C=2.33572146909e-10 .............................................\n",
      "[CV] C=5.45559478117e-10 .............................................\n",
      "[CV] C=5.45559478117e-10 .............................................\n",
      "[CV] .................................... C=2.33572146909e-10 -   0.5s[CV] .................................... C=2.33572146909e-10 -   0.5s[CV] .................................... C=5.45559478117e-10 -   0.5s[CV] .................................... C=5.45559478117e-10 -   0.5s\n",
      "\n",
      "\n",
      "\n",
      "[CV] C=5.45559478117e-10 .............................................\n",
      "[CV] C=5.45559478117e-10 .............................................\n",
      "[CV] C=1.2742749857e-09 ..............................................\n",
      "[CV] C=5.45559478117e-10 .............................................\n",
      "[CV] .................................... C=5.45559478117e-10 -   0.5s[CV] .................................... C=5.45559478117e-10 -   0.5s[CV] ..................................... C=1.2742749857e-09 -   0.5s[CV] .................................... C=5.45559478117e-10 -   0.5s\n",
      "\n",
      "\n",
      "\n",
      "[CV] C=1.2742749857e-09 ..............................................\n",
      "[CV] C=1.2742749857e-09 ..............................................\n",
      "[CV] C=1.2742749857e-09 ..............................................\n",
      "[CV] C=1.2742749857e-09 ..............................................\n",
      "[CV] ..................................... C=1.2742749857e-09 -   0.5s[CV] ..................................... C=1.2742749857e-09 -   0.5s[CV] ..................................... C=1.2742749857e-09 -   0.5s[CV] ..................................... C=1.2742749857e-09 -   0.5s\n",
      "\n",
      "\n",
      "\n",
      "[CV] C=2.97635144163e-09 .............................................\n",
      "[CV] C=2.97635144163e-09 .............................................\n",
      "[CV] C=2.97635144163e-09 .............................................\n",
      "[CV] C=2.97635144163e-09 .............................................\n",
      "[CV] .................................... C=2.97635144163e-09 -   0.6s[CV] .................................... C=2.97635144163e-09 -   0.6s[CV] .................................... C=2.97635144163e-09 -   0.7s[CV] .................................... C=2.97635144163e-09 -   0.6s\n",
      "\n",
      "\n",
      "\n",
      "[CV] C=6.95192796178e-09 .............................................\n",
      "[CV] C=2.97635144163e-09 .............................................\n",
      "[CV] C=6.95192796178e-09 .............................................\n",
      "[CV] C=6.95192796178e-09 .............................................\n",
      "[CV] .................................... C=6.95192796178e-09 -   0.6s[CV] .................................... C=2.97635144163e-09 -   0.6s[CV] .................................... C=6.95192796178e-09 -   0.6s[CV] .................................... C=6.95192796178e-09 -   0.7s\n",
      "\n",
      "\n",
      "\n",
      "[CV] C=6.95192796178e-09 .............................................\n",
      "[CV] C=6.95192796178e-09 .............................................\n",
      "[CV] C=1.62377673919e-08 .............................................\n",
      "[CV] C=1.62377673919e-08 .............................................\n",
      "[CV] .................................... C=6.95192796178e-09 -   0.6s[CV] .................................... C=6.95192796178e-09 -   0.6s[CV] .................................... C=1.62377673919e-08 -   0.6s[CV] .................................... C=1.62377673919e-08 -   0.7s\n",
      "\n",
      "\n",
      "\n",
      "[CV] C=1.62377673919e-08 .............................................\n",
      "[CV] C=1.62377673919e-08 .............................................\n",
      "[CV] C=3.79269019073e-08 .............................................\n",
      "[CV] C=1.62377673919e-08 .............................................\n",
      "[CV] .................................... C=1.62377673919e-08 -   0.6s[CV] .................................... C=1.62377673919e-08 -   0.6s[CV] .................................... C=3.79269019073e-08 -   0.6s[CV] .................................... C=1.62377673919e-08 -   0.7s\n",
      "\n",
      "\n",
      "\n",
      "[CV] C=3.79269019073e-08 .............................................\n",
      "[CV] C=3.79269019073e-08 .............................................\n",
      "[CV] C=3.79269019073e-08 .............................................\n",
      "[CV] C=3.79269019073e-08 .............................................\n",
      "[CV] .................................... C=3.79269019073e-08 -   0.6s[CV] .................................... C=3.79269019073e-08 -   0.6s[CV] .................................... C=3.79269019073e-08 -   0.6s[CV] .................................... C=3.79269019073e-08 -   0.7s\n",
      "\n",
      "\n",
      "\n",
      "[CV] C=8.8586679041e-08 ..............................................\n",
      "[CV] C=8.8586679041e-08 ..............................................\n",
      "[CV] C=8.8586679041e-08 ..............................................\n",
      "[CV] C=8.8586679041e-08 ..............................................\n",
      "[CV] ..................................... C=8.8586679041e-08 -   0.6s[CV] ..................................... C=8.8586679041e-08 -   0.6s[CV] ..................................... C=8.8586679041e-08 -   0.6s[CV] ..................................... C=8.8586679041e-08 -   0.7s\n",
      "\n",
      "\n",
      "\n",
      "[CV] C=2.06913808111e-07 .............................................\n",
      "[CV] C=8.8586679041e-08 ..............................................\n",
      "[CV] C=2.06913808111e-07 .............................................\n",
      "[CV] C=2.06913808111e-07 .............................................\n",
      "[CV] .................................... C=2.06913808111e-07 -   0.6s[CV] ..................................... C=8.8586679041e-08 -   0.6s[CV] .................................... C=2.06913808111e-07 -   0.6s[CV] .................................... C=2.06913808111e-07 -   0.7s\n",
      "\n",
      "\n",
      "\n",
      "[CV] C=2.06913808111e-07 .............................................\n",
      "[CV] C=2.06913808111e-07 .............................................\n",
      "[CV] C=4.83293023857e-07 .............................................\n",
      "[CV] C=4.83293023857e-07 .............................................\n",
      "[CV] .................................... C=2.06913808111e-07 -   0.8s[CV] .................................... C=2.06913808111e-07 -   0.7s[CV] .................................... C=4.83293023857e-07 -   0.9s[CV] .................................... C=4.83293023857e-07 -   0.9s\n",
      "\n",
      "\n",
      "\n",
      "[CV] C=4.83293023857e-07 .............................................\n",
      "[CV] C=4.83293023857e-07 .............................................\n",
      "[CV] C=4.83293023857e-07 .............................................\n",
      "[CV] C=1.12883789168e-06 .............................................\n",
      "[CV] .................................... C=4.83293023857e-07 -   0.7s[CV] .................................... C=4.83293023857e-07 -   0.8s[CV] .................................... C=4.83293023857e-07 -   0.8s[CV] .................................... C=1.12883789168e-06 -   0.8s\n",
      "\n",
      "\n",
      "\n",
      "[CV] C=1.12883789168e-06 .............................................\n",
      "[CV] C=1.12883789168e-06 .............................................\n",
      "[CV] C=1.12883789168e-06 .............................................\n",
      "[CV] C=1.12883789168e-06 .............................................\n",
      "[CV] .................................... C=1.12883789168e-06 -   0.7s[CV] .................................... C=1.12883789168e-06 -   0.8s[CV] .................................... C=1.12883789168e-06 -   0.8s[CV] .................................... C=1.12883789168e-06 -   0.9s\n",
      "\n",
      "\n",
      "\n",
      "[CV] C=2.63665089873e-06 .............................................\n",
      "[CV] C=2.63665089873e-06 .............................................\n",
      "[CV] C=2.63665089873e-06 .............................................\n",
      "[CV] C=2.63665089873e-06 .............................................\n",
      "[CV] .................................... C=2.63665089873e-06 -   0.9s[CV] .................................... C=2.63665089873e-06 -   1.0s[CV] .................................... C=2.63665089873e-06 -   1.0s[CV] .................................... C=2.63665089873e-06 -   1.0s\n",
      "\n",
      "\n",
      "\n",
      "[CV] C=2.63665089873e-06 .............................................\n",
      "[CV] C=6.15848211066e-06 .............................................\n",
      "[CV] C=6.15848211066e-06 .............................................\n",
      "[CV] C=6.15848211066e-06 .............................................\n",
      "[CV] .................................... C=2.63665089873e-06 -   0.9s[CV] .................................... C=6.15848211066e-06 -   0.9s[CV] .................................... C=6.15848211066e-06 -   0.9s[CV] .................................... C=6.15848211066e-06 -   1.0s\n",
      "\n",
      "\n",
      "\n",
      "[CV] C=6.15848211066e-06 .............................................\n",
      "[CV] C=6.15848211066e-06 .............................................\n",
      "[CV] C=1.43844988829e-05 .............................................\n",
      "[CV] C=1.43844988829e-05 .............................................\n",
      "[CV] .................................... C=6.15848211066e-06 -   0.9s[CV] .................................... C=6.15848211066e-06 -   0.9s[CV] .................................... C=1.43844988829e-05 -   1.0s[CV] .................................... C=1.43844988829e-05 -   1.0s\n",
      "\n",
      "\n",
      "\n",
      "[CV] C=1.43844988829e-05 .............................................\n",
      "[CV] C=1.43844988829e-05 .............................................\n",
      "[CV] C=1.43844988829e-05 .............................................\n",
      "[CV] C=3.35981828628e-05 .............................................\n",
      "[CV] .................................... C=1.43844988829e-05 -   1.0s[CV] .................................... C=1.43844988829e-05 -   1.2s[CV] .................................... C=1.43844988829e-05 -   1.2s[CV] .................................... C=3.35981828628e-05 -   1.3s\n",
      "\n",
      "\n",
      "\n",
      "[CV] C=3.35981828628e-05 .............................................\n",
      "[CV] C=3.35981828628e-05 .............................................\n",
      "[CV] C=3.35981828628e-05 .............................................\n",
      "[CV] C=3.35981828628e-05 .............................................\n",
      "[CV] .................................... C=3.35981828628e-05 -   1.3s[CV] .................................... C=3.35981828628e-05 -   1.3s[CV] .................................... C=3.35981828628e-05 -   1.4s[CV] .................................... C=3.35981828628e-05 -   1.4s\n",
      "\n",
      "\n",
      "\n",
      "[CV] C=7.84759970351e-05 .............................................\n",
      "[CV] C=7.84759970351e-05 .............................................\n",
      "[CV] C=7.84759970351e-05 .............................................\n",
      "[CV] C=7.84759970351e-05 .............................................\n",
      "[CV] .................................... C=7.84759970351e-05 -   1.5s[CV] .................................... C=7.84759970351e-05 -   1.5s[CV] .................................... C=7.84759970351e-05 -   1.5s[CV] .................................... C=7.84759970351e-05 -   1.5s\n",
      "\n",
      "\n",
      "\n",
      "[CV] C=7.84759970351e-05 .............................................\n",
      "[CV] C=0.000183298071083 .............................................\n",
      "[CV] C=0.000183298071083 .............................................\n",
      "[CV] C=0.000183298071083 .............................................\n",
      "[CV] .................................... C=7.84759970351e-05 -   1.5s[CV] .................................... C=0.000183298071083 -   1.7s[CV] .................................... C=0.000183298071083 -   1.7s[CV] .................................... C=0.000183298071083 -   1.8s\n",
      "\n",
      "\n",
      "\n",
      "[CV] C=0.000183298071083 .............................................\n",
      "[CV] C=0.000183298071083 .............................................\n",
      "[CV] C=0.000428133239872 .............................................\n",
      "[CV] C=0.000428133239872 .............................................\n",
      "[CV] .................................... C=0.000183298071083 -   1.8s[CV] .................................... C=0.000183298071083 -   2.1s[CV] .................................... C=0.000428133239872 -   2.7s[CV] .................................... C=0.000428133239872 -   2.7s\n",
      "\n",
      "\n",
      "\n",
      "[CV] C=0.000428133239872 .............................................\n",
      "[CV] C=0.000428133239872 .............................................\n",
      "[CV] C=0.000428133239872 .............................................\n",
      "[CV] C=0.001 .........................................................\n",
      "[CV] .................................... C=0.000428133239872 -   2.5s[CV] .................................... C=0.000428133239872 -   2.4s[CV] .................................... C=0.000428133239872 -   2.5s[CV] ................................................ C=0.001 -   2.6s\n",
      "\n",
      "\n",
      "\n",
      "[CV] C=0.001 .........................................................\n",
      "[CV] C=0.001 .........................................................\n",
      "[CV] C=0.001 .........................................................\n",
      "[CV] ................................................ C=0.001 -   2.5s[CV] ................................................ C=0.001 -   2.7s[CV] ................................................ C=0.001 -   2.3s\n",
      "\n",
      "\n",
      "[CV] C=0.001 .........................................................\n",
      "[CV] ................................................ C=0.001 -   1.9s\n"
     ]
    }
   ],
   "source": [
    "data_2 = data.copy()\n",
    "\n",
    "remove_future_features(data_2)\n",
    "data_2.fillna(0, inplace=True)\n",
    "X_2 = data_2.values\n",
    "\n",
    "clf_lr2 = logistic_regression(X_2, y, C=np.logspace(-10, -3, num=20))"
   ]
  },
  {
   "cell_type": "code",
   "execution_count": 11,
   "metadata": {
    "collapsed": false
   },
   "outputs": [
    {
     "name": "stdout",
     "output_type": "stream",
     "text": [
      "Best score: 0.715602207819\n"
     ]
    },
    {
     "data": {
      "image/png": "[encoded data removed]",
      "text/plain": [
       "<matplotlib.figure.Figure at 0x7faa21c8fd50>"
      ]
     },
     "metadata": {},
     "output_type": "display_data"
    }
   ],
   "source": [
    "scores_lr2 = clf_lr2.grid_scores_\n",
    "print 'Best score: {}'.format(clf_lr2.best_score_)\n",
    "    \n",
    "plot_scores(scores_lr2, 'LR w/o feature engineering')"
   ]
  },
  {
   "cell_type": "code",
   "execution_count": 12,
   "metadata": {
    "collapsed": false
   },
   "outputs": [
    {
     "name": "stdout",
     "output_type": "stream",
     "text": [
      "Fitting 5 folds for each of 20 candidates, totalling 100 fits\n"
     ]
    },
    {
     "name": "stderr",
     "output_type": "stream",
     "text": [
      "[Parallel(n_jobs=4)]: Done  33 tasks      | elapsed:    5.0s\n",
      "[Parallel(n_jobs=4)]: Done 100 out of 100 | elapsed:   24.9s finished\n"
     ]
    },
    {
     "name": "stdout",
     "output_type": "stream",
     "text": [
      "Function `logistic_regression` exec time: 0:00:26.550577\n",
      "[CV] C=1e-10 .........................................................\n",
      "[CV] C=1e-10 .........................................................\n",
      "[CV] C=1e-10 .........................................................\n",
      "[CV] C=1e-10 .........................................................\n",
      "[CV] ................................................ C=1e-10 -   0.5s[CV] ................................................ C=1e-10 -   0.5s[CV] ................................................ C=1e-10 -   0.5s[CV] ................................................ C=1e-10 -   0.5s\n",
      "\n",
      "\n",
      "\n",
      "[CV] C=2.33572146909e-10 .............................................\n",
      "[CV] C=1e-10 .........................................................\n",
      "[CV] C=2.33572146909e-10 .............................................\n",
      "[CV] C=2.33572146909e-10 .............................................\n",
      "[CV] .................................... C=2.33572146909e-10 -   0.5s[CV] ................................................ C=1e-10 -   0.5s[CV] .................................... C=2.33572146909e-10 -   0.5s[CV] .................................... C=2.33572146909e-10 -   0.5s\n",
      "\n",
      "\n",
      "\n",
      "[CV] C=2.33572146909e-10 .............................................\n",
      "[CV] C=2.33572146909e-10 .............................................\n",
      "[CV] C=5.45559478117e-10 .............................................\n",
      "[CV] C=5.45559478117e-10 .............................................\n",
      "[CV] .................................... C=2.33572146909e-10 -   0.5s[CV] .................................... C=2.33572146909e-10 -   0.5s[CV] .................................... C=5.45559478117e-10 -   0.5s[CV] .................................... C=5.45559478117e-10 -   0.5s\n",
      "\n",
      "\n",
      "\n",
      "[CV] C=5.45559478117e-10 .............................................\n",
      "[CV] C=5.45559478117e-10 .............................................\n",
      "[CV] C=1.2742749857e-09 ..............................................\n",
      "[CV] C=5.45559478117e-10 .............................................\n",
      "[CV] .................................... C=5.45559478117e-10 -   0.5s[CV] .................................... C=5.45559478117e-10 -   0.5s[CV] ..................................... C=1.2742749857e-09 -   0.5s[CV] .................................... C=5.45559478117e-10 -   0.5s\n",
      "\n",
      "\n",
      "\n",
      "[CV] C=1.2742749857e-09 ..............................................\n",
      "[CV] C=1.2742749857e-09 ..............................................\n",
      "[CV] C=1.2742749857e-09 ..............................................\n",
      "[CV] C=1.2742749857e-09 ..............................................\n",
      "[CV] ..................................... C=1.2742749857e-09 -   0.5s[CV] ..................................... C=1.2742749857e-09 -   0.5s[CV] ..................................... C=1.2742749857e-09 -   0.5s[CV] ..................................... C=1.2742749857e-09 -   0.5s\n",
      "\n",
      "\n",
      "\n",
      "[CV] C=2.97635144163e-09 .............................................\n",
      "[CV] C=2.97635144163e-09 .............................................\n",
      "[CV] C=2.97635144163e-09 .............................................\n",
      "[CV] C=2.97635144163e-09 .............................................\n",
      "[CV] .................................... C=2.97635144163e-09 -   0.6s[CV] .................................... C=2.97635144163e-09 -   0.6s[CV] .................................... C=2.97635144163e-09 -   0.6s[CV] .................................... C=2.97635144163e-09 -   0.6s\n",
      "\n",
      "\n",
      "\n",
      "[CV] C=6.95192796178e-09 .............................................\n",
      "[CV] C=2.97635144163e-09 .............................................\n",
      "[CV] C=6.95192796178e-09 .............................................\n",
      "[CV] C=6.95192796178e-09 .............................................\n",
      "[CV] .................................... C=6.95192796178e-09 -   0.6s[CV] .................................... C=2.97635144163e-09 -   0.6s[CV] .................................... C=6.95192796178e-09 -   0.6s[CV] .................................... C=6.95192796178e-09 -   0.6s\n",
      "\n",
      "\n",
      "\n",
      "[CV] C=6.95192796178e-09 .............................................\n",
      "[CV] C=6.95192796178e-09 .............................................\n",
      "[CV] C=1.62377673919e-08 .............................................\n",
      "[CV] C=1.62377673919e-08 .............................................\n",
      "[CV] .................................... C=6.95192796178e-09 -   0.6s[CV] .................................... C=6.95192796178e-09 -   0.6s[CV] .................................... C=1.62377673919e-08 -   0.6s[CV] .................................... C=1.62377673919e-08 -   0.6s\n",
      "\n",
      "\n",
      "\n",
      "[CV] C=1.62377673919e-08 .............................................\n",
      "[CV] C=1.62377673919e-08 .............................................\n",
      "[CV] C=1.62377673919e-08 .............................................\n",
      "[CV] C=3.79269019073e-08 .............................................\n",
      "[CV] .................................... C=1.62377673919e-08 -   0.6s[CV] .................................... C=1.62377673919e-08 -   0.6s[CV] .................................... C=1.62377673919e-08 -   0.6s[CV] .................................... C=3.79269019073e-08 -   0.6s\n",
      "\n",
      "\n",
      "\n",
      "[CV] C=3.79269019073e-08 .............................................\n",
      "[CV] C=3.79269019073e-08 .............................................\n",
      "[CV] C=3.79269019073e-08 .............................................\n",
      "[CV] C=3.79269019073e-08 .............................................\n",
      "[CV] .................................... C=3.79269019073e-08 -   0.6s[CV] .................................... C=3.79269019073e-08 -   0.6s[CV] .................................... C=3.79269019073e-08 -   0.6s[CV] .................................... C=3.79269019073e-08 -   0.6s\n",
      "\n",
      "\n",
      "\n",
      "[CV] C=8.8586679041e-08 ..............................................\n",
      "[CV] C=8.8586679041e-08 ..............................................\n",
      "[CV] C=8.8586679041e-08 ..............................................\n",
      "[CV] C=8.8586679041e-08 ..............................................\n",
      "[CV] ..................................... C=8.8586679041e-08 -   0.6s[CV] ..................................... C=8.8586679041e-08 -   0.6s[CV] ..................................... C=8.8586679041e-08 -   0.6s[CV] ..................................... C=8.8586679041e-08 -   0.6s\n",
      "\n",
      "\n",
      "\n",
      "[CV] C=2.06913808111e-07 .............................................\n",
      "[CV] C=8.8586679041e-08 ..............................................\n",
      "[CV] C=2.06913808111e-07 .............................................\n",
      "[CV] C=2.06913808111e-07 .............................................\n",
      "[CV] .................................... C=2.06913808111e-07 -   0.6s[CV] ..................................... C=8.8586679041e-08 -   0.6s[CV] .................................... C=2.06913808111e-07 -   0.6s[CV] .................................... C=2.06913808111e-07 -   0.6s\n",
      "\n",
      "\n",
      "\n",
      "[CV] C=2.06913808111e-07 .............................................\n",
      "[CV] C=2.06913808111e-07 .............................................\n",
      "[CV] C=4.83293023857e-07 .............................................\n",
      "[CV] C=4.83293023857e-07 .............................................\n",
      "[CV] .................................... C=2.06913808111e-07 -   0.6s[CV] .................................... C=2.06913808111e-07 -   0.6s[CV] .................................... C=4.83293023857e-07 -   0.7s[CV] .................................... C=4.83293023857e-07 -   0.7s\n",
      "\n",
      "\n",
      "\n",
      "[CV] C=4.83293023857e-07 .............................................\n",
      "[CV] C=4.83293023857e-07 .............................................\n",
      "[CV] C=4.83293023857e-07 .............................................\n",
      "[CV] C=1.12883789168e-06 .............................................\n",
      "[CV] .................................... C=4.83293023857e-07 -   0.7s[CV] .................................... C=4.83293023857e-07 -   0.8s[CV] .................................... C=4.83293023857e-07 -   0.7s[CV] .................................... C=1.12883789168e-06 -   0.7s\n",
      "\n",
      "\n",
      "\n",
      "[CV] C=1.12883789168e-06 .............................................\n",
      "[CV] C=1.12883789168e-06 .............................................\n",
      "[CV] C=1.12883789168e-06 .............................................\n",
      "[CV] C=1.12883789168e-06 .............................................\n",
      "[CV] .................................... C=1.12883789168e-06 -   0.7s[CV] .................................... C=1.12883789168e-06 -   0.7s[CV] .................................... C=1.12883789168e-06 -   0.7s[CV] .................................... C=1.12883789168e-06 -   0.7s\n",
      "\n",
      "\n",
      "\n",
      "[CV] C=2.63665089873e-06 .............................................\n",
      "[CV] C=2.63665089873e-06 .............................................\n",
      "[CV] C=2.63665089873e-06 .............................................\n",
      "[CV] C=2.63665089873e-06 .............................................\n",
      "[CV] .................................... C=2.63665089873e-06 -   0.9s[CV] .................................... C=2.63665089873e-06 -   0.9s[CV] .................................... C=2.63665089873e-06 -   0.8s[CV] .................................... C=2.63665089873e-06 -   0.8s\n",
      "\n",
      "\n",
      "\n",
      "[CV] C=6.15848211066e-06 .............................................\n",
      "[CV] C=2.63665089873e-06 .............................................\n",
      "[CV] C=6.15848211066e-06 .............................................\n",
      "[CV] C=6.15848211066e-06 .............................................\n",
      "[CV] .................................... C=6.15848211066e-06 -   0.8s[CV] .................................... C=2.63665089873e-06 -   0.9s[CV] .................................... C=6.15848211066e-06 -   0.8s[CV] .................................... C=6.15848211066e-06 -   0.8s\n",
      "\n",
      "\n",
      "\n",
      "[CV] C=6.15848211066e-06 .............................................\n",
      "[CV] C=6.15848211066e-06 .............................................\n",
      "[CV] C=1.43844988829e-05 .............................................\n",
      "[CV] C=1.43844988829e-05 .............................................\n",
      "[CV] .................................... C=6.15848211066e-06 -   0.9s[CV] .................................... C=6.15848211066e-06 -   0.8s[CV] .................................... C=1.43844988829e-05 -   0.9s[CV] .................................... C=1.43844988829e-05 -   0.9s\n",
      "\n",
      "\n",
      "\n",
      "[CV] C=1.43844988829e-05 .............................................\n",
      "[CV] C=1.43844988829e-05 .............................................\n",
      "[CV] C=1.43844988829e-05 .............................................\n",
      "[CV] C=3.35981828628e-05 .............................................\n",
      "[CV] .................................... C=1.43844988829e-05 -   1.1s[CV] .................................... C=1.43844988829e-05 -   0.9s[CV] .................................... C=1.43844988829e-05 -   1.2s[CV] .................................... C=3.35981828628e-05 -   1.2s\n",
      "\n",
      "\n",
      "\n",
      "[CV] C=3.35981828628e-05 .............................................\n",
      "[CV] C=3.35981828628e-05 .............................................\n",
      "[CV] C=3.35981828628e-05 .............................................\n",
      "[CV] C=3.35981828628e-05 .............................................\n",
      "[CV] .................................... C=3.35981828628e-05 -   1.3s[CV] .................................... C=3.35981828628e-05 -   1.3s[CV] .................................... C=3.35981828628e-05 -   1.3s[CV] .................................... C=3.35981828628e-05 -   1.3s\n",
      "\n",
      "\n",
      "\n",
      "[CV] C=7.84759970351e-05 .............................................\n",
      "[CV] C=7.84759970351e-05 .............................................\n",
      "[CV] C=7.84759970351e-05 .............................................\n",
      "[CV] C=7.84759970351e-05 .............................................\n",
      "[CV] .................................... C=7.84759970351e-05 -   1.5s[CV] .................................... C=7.84759970351e-05 -   1.4s[CV] .................................... C=7.84759970351e-05 -   1.5s[CV] .................................... C=7.84759970351e-05 -   1.4s\n",
      "\n",
      "\n",
      "\n",
      "[CV] C=0.000183298071083 .............................................\n",
      "[CV] C=7.84759970351e-05 .............................................\n",
      "[CV] C=0.000183298071083 .............................................\n",
      "[CV] C=0.000183298071083 .............................................\n",
      "[CV] .................................... C=0.000183298071083 -   1.7s[CV] .................................... C=7.84759970351e-05 -   1.4s[CV] .................................... C=0.000183298071083 -   1.6s[CV] .................................... C=0.000183298071083 -   1.6s\n",
      "\n",
      "\n",
      "\n",
      "[CV] C=0.000183298071083 .............................................\n",
      "[CV] C=0.000183298071083 .............................................\n",
      "[CV] C=0.000428133239872 .............................................\n",
      "[CV] C=0.000428133239872 .............................................\n",
      "[CV] .................................... C=0.000183298071083 -   2.0s[CV] .................................... C=0.000183298071083 -   1.7s[CV] .................................... C=0.000428133239872 -   2.5s[CV] .................................... C=0.000428133239872 -   2.4s\n",
      "\n",
      "\n",
      "\n",
      "[CV] C=0.000428133239872 .............................................\n",
      "[CV] C=0.000428133239872 .............................................\n",
      "[CV] C=0.000428133239872 .............................................\n",
      "[CV] C=0.001 .........................................................\n",
      "[CV] .................................... C=0.000428133239872 -   2.1s[CV] .................................... C=0.000428133239872 -   2.0s[CV] .................................... C=0.000428133239872 -   1.9s[CV] ................................................ C=0.001 -   2.9s\n",
      "\n",
      "\n",
      "\n",
      "[CV] C=0.001 .........................................................\n",
      "[CV] C=0.001 .........................................................\n",
      "[CV] C=0.001 .........................................................\n",
      "[CV] C=0.001 .........................................................\n",
      "[CV] ................................................ C=0.001 -   2.6s[CV] ................................................ C=0.001 -   3.1s[CV] ................................................ C=0.001 -   2.4s[CV] ................................................ C=0.001 -   1.9s\n",
      "\n",
      "\n",
      "\n"
     ]
    }
   ],
   "source": [
    "data_3 = data.copy()\n",
    "\n",
    "remove_future_features(data_3)\n",
    "remove_categorial_features(data_3)\n",
    "data_3.fillna(0, inplace=True)\n",
    "X_3 = data_3.values\n",
    "\n",
    "clf_lr3 = logistic_regression(X_3, y, C=np.logspace(-10, -3, num=20))"
   ]
  },
  {
   "cell_type": "code",
   "execution_count": 13,
   "metadata": {
    "collapsed": false
   },
   "outputs": [
    {
     "name": "stdout",
     "output_type": "stream",
     "text": [
      "Best score: 0.715628266391\n"
     ]
    },
    {
     "data": {
      "image/png": "[encoded data removed]",
      "text/plain": [
       "<matplotlib.figure.Figure at 0x7faa23989c50>"
      ]
     },
     "metadata": {},
     "output_type": "display_data"
    }
   ],
   "source": [
    "scores_lr3 = clf_lr3.grid_scores_\n",
    "print 'Best score: {}'.format(clf_lr3.best_score_)\n",
    "    \n",
    "plot_scores(scores_lr3, 'LR w/o categorial features')"
   ]
  },
  {
   "cell_type": "code",
   "execution_count": 14,
   "metadata": {
    "collapsed": false
   },
   "outputs": [
    {
     "name": "stdout",
     "output_type": "stream",
     "text": [
      "Fitting 5 folds for each of 20 candidates, totalling 100 fits\n"
     ]
    },
    {
     "name": "stderr",
     "output_type": "stream",
     "text": [
      "[Parallel(n_jobs=4)]: Done  33 tasks      | elapsed:    8.8s\n",
      "[Parallel(n_jobs=4)]: Done 100 out of 100 | elapsed:   44.9s finished\n"
     ]
    },
    {
     "name": "stdout",
     "output_type": "stream",
     "text": [
      "Function `logistic_regression` exec time: 0:00:47.702921\n",
      "[CV] C=1e-10 .........................................................\n",
      "[CV] C=1e-10 .........................................................\n",
      "[CV] C=1e-10 .........................................................\n",
      "[CV] C=1e-10 .........................................................\n",
      "[CV] ................................................ C=1e-10 -   0.8s[CV] ................................................ C=1e-10 -   0.9s[CV] ................................................ C=1e-10 -   0.8s[CV] ................................................ C=1e-10 -   0.8s\n",
      "\n",
      "\n",
      "\n",
      "[CV] C=1e-10 .........................................................\n",
      "[CV] C=2.33572146909e-10 .............................................\n",
      "[CV] C=2.33572146909e-10 .............................................\n",
      "[CV] C=2.33572146909e-10 .............................................\n",
      "[CV] ................................................ C=1e-10 -   0.8s[CV] .................................... C=2.33572146909e-10 -   0.9s[CV] .................................... C=2.33572146909e-10 -   0.9s[CV] .................................... C=2.33572146909e-10 -   0.8s\n",
      "\n",
      "\n",
      "\n",
      "[CV] C=2.33572146909e-10 .............................................\n",
      "[CV] C=5.45559478117e-10 .............................................\n",
      "[CV] C=2.33572146909e-10 .............................................\n",
      "[CV] C=5.45559478117e-10 .............................................\n",
      "[CV] .................................... C=2.33572146909e-10 -   0.8s[CV] .................................... C=5.45559478117e-10 -   0.8s[CV] .................................... C=2.33572146909e-10 -   0.8s[CV] .................................... C=5.45559478117e-10 -   0.9s\n",
      "\n",
      "\n",
      "\n",
      "[CV] C=5.45559478117e-10 .............................................\n",
      "[CV] C=5.45559478117e-10 .............................................\n",
      "[CV] C=5.45559478117e-10 .............................................\n",
      "[CV] C=1.2742749857e-09 ..............................................\n",
      "[CV] .................................... C=5.45559478117e-10 -   0.9s[CV] .................................... C=5.45559478117e-10 -   0.8s[CV] .................................... C=5.45559478117e-10 -   0.8s[CV] ..................................... C=1.2742749857e-09 -   0.8s\n",
      "\n",
      "\n",
      "\n",
      "[CV] C=1.2742749857e-09 ..............................................\n",
      "[CV] C=1.2742749857e-09 ..............................................\n",
      "[CV] C=1.2742749857e-09 ..............................................\n",
      "[CV] C=1.2742749857e-09 ..............................................\n",
      "[CV] ..................................... C=1.2742749857e-09 -   0.9s[CV] ..................................... C=1.2742749857e-09 -   0.8s[CV] ..................................... C=1.2742749857e-09 -   0.9s[CV] ..................................... C=1.2742749857e-09 -   0.8s\n",
      "\n",
      "\n",
      "\n",
      "[CV] C=2.97635144163e-09 .............................................\n",
      "[CV] C=2.97635144163e-09 .............................................\n",
      "[CV] C=2.97635144163e-09 .............................................\n",
      "[CV] C=2.97635144163e-09 .............................................\n",
      "[CV] .................................... C=2.97635144163e-09 -   1.1s[CV] .................................... C=2.97635144163e-09 -   1.0s[CV] .................................... C=2.97635144163e-09 -   1.1s[CV] .................................... C=2.97635144163e-09 -   1.0s\n",
      "\n",
      "\n",
      "\n",
      "[CV] C=2.97635144163e-09 .............................................\n",
      "[CV] C=6.95192796178e-09 .............................................\n",
      "[CV] C=6.95192796178e-09 .............................................\n",
      "[CV] C=6.95192796178e-09 .............................................\n",
      "[CV] .................................... C=2.97635144163e-09 -   1.1s[CV] .................................... C=6.95192796178e-09 -   1.1s[CV] .................................... C=6.95192796178e-09 -   1.1s[CV] .................................... C=6.95192796178e-09 -   1.1s\n",
      "\n",
      "\n",
      "\n",
      "[CV] C=6.95192796178e-09 .............................................\n",
      "[CV] C=1.62377673919e-08 .............................................\n",
      "[CV] C=6.95192796178e-09 .............................................\n",
      "[CV] C=1.62377673919e-08 .............................................\n",
      "[CV] .................................... C=6.95192796178e-09 -   1.1s[CV] .................................... C=1.62377673919e-08 -   1.1s[CV] .................................... C=6.95192796178e-09 -   1.0s[CV] .................................... C=1.62377673919e-08 -   1.0s\n",
      "\n",
      "\n",
      "\n",
      "[CV] C=1.62377673919e-08 .............................................\n",
      "[CV] C=3.79269019073e-08 .............................................\n",
      "[CV] C=1.62377673919e-08 .............................................\n",
      "[CV] C=1.62377673919e-08 .............................................\n",
      "[CV] .................................... C=1.62377673919e-08 -   1.1s[CV] .................................... C=3.79269019073e-08 -   1.0s[CV] .................................... C=1.62377673919e-08 -   1.0s[CV] .................................... C=1.62377673919e-08 -   1.1s\n",
      "\n",
      "\n",
      "\n",
      "[CV] C=3.79269019073e-08 .............................................\n",
      "[CV] C=3.79269019073e-08 .............................................\n",
      "[CV] C=3.79269019073e-08 .............................................\n",
      "[CV] C=3.79269019073e-08 .............................................\n",
      "[CV] .................................... C=3.79269019073e-08 -   1.0s[CV] .................................... C=3.79269019073e-08 -   1.0s[CV] .................................... C=3.79269019073e-08 -   1.1s[CV] .................................... C=3.79269019073e-08 -   1.1s\n",
      "\n",
      "\n",
      "\n",
      "[CV] C=8.8586679041e-08 ..............................................\n",
      "[CV] C=8.8586679041e-08 ..............................................\n",
      "[CV] C=8.8586679041e-08 ..............................................\n",
      "[CV] C=8.8586679041e-08 ..............................................\n",
      "[CV] ..................................... C=8.8586679041e-08 -   1.1s[CV] ..................................... C=8.8586679041e-08 -   1.0s[CV] ..................................... C=8.8586679041e-08 -   1.1s[CV] ..................................... C=8.8586679041e-08 -   1.1s\n",
      "\n",
      "\n",
      "\n",
      "[CV] C=2.06913808111e-07 .............................................\n",
      "[CV] C=2.06913808111e-07 .............................................\n",
      "[CV] C=8.8586679041e-08 ..............................................\n",
      "[CV] C=2.06913808111e-07 .............................................\n",
      "[CV] .................................... C=2.06913808111e-07 -   1.1s[CV] .................................... C=2.06913808111e-07 -   1.1s[CV] ..................................... C=8.8586679041e-08 -   1.0s[CV] .................................... C=2.06913808111e-07 -   1.1s\n",
      "\n",
      "\n",
      "\n",
      "[CV] C=2.06913808111e-07 .............................................\n",
      "[CV] C=4.83293023857e-07 .............................................\n",
      "[CV] C=2.06913808111e-07 .............................................\n",
      "[CV] C=4.83293023857e-07 .............................................\n",
      "[CV] .................................... C=2.06913808111e-07 -   1.1s[CV] .................................... C=4.83293023857e-07 -   1.4s[CV] .................................... C=2.06913808111e-07 -   1.1s[CV] .................................... C=4.83293023857e-07 -   1.3s\n",
      "\n",
      "\n",
      "\n",
      "[CV] C=4.83293023857e-07 .............................................\n",
      "[CV] C=4.83293023857e-07 .............................................\n",
      "[CV] C=4.83293023857e-07 .............................................\n",
      "[CV] C=1.12883789168e-06 .............................................\n",
      "[CV] .................................... C=4.83293023857e-07 -   1.3s[CV] .................................... C=4.83293023857e-07 -   1.3s[CV] .................................... C=4.83293023857e-07 -   1.3s[CV] .................................... C=1.12883789168e-06 -   1.3s\n",
      "\n",
      "\n",
      "\n",
      "[CV] C=1.12883789168e-06 .............................................\n",
      "[CV] C=1.12883789168e-06 .............................................\n",
      "[CV] C=1.12883789168e-06 .............................................\n",
      "[CV] C=1.12883789168e-06 .............................................\n",
      "[CV] .................................... C=1.12883789168e-06 -   1.3s[CV] .................................... C=1.12883789168e-06 -   1.3s[CV] .................................... C=1.12883789168e-06 -   1.3s[CV] .................................... C=1.12883789168e-06 -   1.3s\n",
      "\n",
      "\n",
      "\n",
      "[CV] C=2.63665089873e-06 .............................................\n",
      "[CV] C=2.63665089873e-06 .............................................\n",
      "[CV] C=2.63665089873e-06 .............................................\n",
      "[CV] C=2.63665089873e-06 .............................................\n",
      "[CV] .................................... C=2.63665089873e-06 -   1.5s[CV] .................................... C=2.63665089873e-06 -   1.5s[CV] .................................... C=2.63665089873e-06 -   1.5s[CV] .................................... C=2.63665089873e-06 -   1.5s\n",
      "\n",
      "\n",
      "\n",
      "[CV] C=2.63665089873e-06 .............................................\n",
      "[CV] C=6.15848211066e-06 .............................................\n",
      "[CV] C=6.15848211066e-06 .............................................\n",
      "[CV] C=6.15848211066e-06 .............................................\n",
      "[CV] .................................... C=2.63665089873e-06 -   1.5s[CV] .................................... C=6.15848211066e-06 -   1.6s[CV] .................................... C=6.15848211066e-06 -   1.7s[CV] .................................... C=6.15848211066e-06 -   1.6s\n",
      "\n",
      "\n",
      "\n",
      "[CV] C=6.15848211066e-06 .............................................\n",
      "[CV] C=1.43844988829e-05 .............................................\n",
      "[CV] C=6.15848211066e-06 .............................................\n",
      "[CV] C=1.43844988829e-05 .............................................\n",
      "[CV] .................................... C=6.15848211066e-06 -   1.6s[CV] .................................... C=1.43844988829e-05 -   1.6s[CV] .................................... C=6.15848211066e-06 -   1.6s[CV] .................................... C=1.43844988829e-05 -   2.0s\n",
      "\n",
      "\n",
      "\n",
      "[CV] C=1.43844988829e-05 .............................................\n",
      "[CV] C=1.43844988829e-05 .............................................\n",
      "[CV] C=1.43844988829e-05 .............................................\n",
      "[CV] C=3.35981828628e-05 .............................................\n",
      "[CV] .................................... C=1.43844988829e-05 -   1.7s[CV] .................................... C=1.43844988829e-05 -   2.0s[CV] .................................... C=1.43844988829e-05 -   2.0s[CV] .................................... C=3.35981828628e-05 -   2.2s\n",
      "\n",
      "\n",
      "\n",
      "[CV] C=3.35981828628e-05 .............................................\n",
      "[CV] C=3.35981828628e-05 .............................................\n",
      "[CV] C=3.35981828628e-05 .............................................\n",
      "[CV] C=3.35981828628e-05 .............................................\n",
      "[CV] .................................... C=3.35981828628e-05 -   2.3s[CV] .................................... C=3.35981828628e-05 -   2.3s[CV] .................................... C=3.35981828628e-05 -   2.3s[CV] .................................... C=3.35981828628e-05 -   2.4s\n",
      "\n",
      "\n",
      "\n",
      "[CV] C=7.84759970351e-05 .............................................\n",
      "[CV] C=7.84759970351e-05 .............................................\n",
      "[CV] C=7.84759970351e-05 .............................................\n",
      "[CV] C=7.84759970351e-05 .............................................\n",
      "[CV] .................................... C=7.84759970351e-05 -   2.7s[CV] .................................... C=7.84759970351e-05 -   2.5s[CV] .................................... C=7.84759970351e-05 -   2.6s[CV] .................................... C=7.84759970351e-05 -   2.6s\n",
      "\n",
      "\n",
      "\n",
      "[CV] C=7.84759970351e-05 .............................................\n",
      "[CV] C=0.000183298071083 .............................................\n",
      "[CV] C=0.000183298071083 .............................................\n",
      "[CV] C=0.000183298071083 .............................................\n",
      "[CV] .................................... C=7.84759970351e-05 -   2.6s[CV] .................................... C=0.000183298071083 -   3.6s[CV] .................................... C=0.000183298071083 -   2.9s[CV] .................................... C=0.000183298071083 -   3.2s\n",
      "\n",
      "\n",
      "\n",
      "[CV] C=0.000183298071083 .............................................\n",
      "[CV] C=0.000428133239872 .............................................\n",
      "[CV] C=0.000183298071083 .............................................\n",
      "[CV] C=0.000428133239872 .............................................\n",
      "[CV] .................................... C=0.000183298071083 -   3.7s[CV] .................................... C=0.000428133239872 -   4.0s[CV] .................................... C=0.000183298071083 -   3.2s[CV] .................................... C=0.000428133239872 -   4.3s\n",
      "\n",
      "\n",
      "\n",
      "[CV] C=0.000428133239872 .............................................\n",
      "[CV] C=0.000428133239872 .............................................\n",
      "[CV] C=0.000428133239872 .............................................\n",
      "[CV] C=0.001 .........................................................\n",
      "[CV] .................................... C=0.000428133239872 -   4.3s[CV] .................................... C=0.000428133239872 -   4.3s[CV] .................................... C=0.000428133239872 -   4.4s[CV] ................................................ C=0.001 -   5.5s\n",
      "\n",
      "\n",
      "\n",
      "[CV] C=0.001 .........................................................\n",
      "[CV] C=0.001 .........................................................\n",
      "[CV] C=0.001 .........................................................\n",
      "[CV] C=0.001 .........................................................\n",
      "[CV] ................................................ C=0.001 -   4.9s[CV] ................................................ C=0.001 -   4.1s[CV] ................................................ C=0.001 -   5.0s[CV] ................................................ C=0.001 -   3.1s\n",
      "\n",
      "\n",
      "\n"
     ]
    }
   ],
   "source": [
    "data_4 = data.copy()\n",
    "\n",
    "remove_future_features(data_4)\n",
    "remove_categorial_features(data_4)\n",
    "\n",
    "data_4.fillna(0, inplace=True)\n",
    "\n",
    "X_4 = np.hstack((data_4.values, X_pick))\n",
    "clf_lr4 = logistic_regression(X_4, y, C=np.logspace(-10, -3, num=20))"
   ]
  },
  {
   "cell_type": "code",
   "execution_count": 15,
   "metadata": {
    "collapsed": false,
    "scrolled": true
   },
   "outputs": [
    {
     "data": {
      "image/png": "[encoded data removed]",
      "text/plain": [
       "<matplotlib.figure.Figure at 0x7faa21c60e90>"
      ]
     },
     "metadata": {},
     "output_type": "display_data"
    }
   ],
   "source": [
    "scores_lr4 = clf_lr4.grid_scores_\n",
    "    \n",
    "plot_scores(scores_lr4, 'LR with heroes represented as bag of words')"
   ]
  },
  {
   "cell_type": "code",
   "execution_count": 16,
   "metadata": {
    "collapsed": false
   },
   "outputs": [
    {
     "name": "stdout",
     "output_type": "stream",
     "text": [
      "Min score: 0.598660335995 with C: 1e-10\n",
      "Max score: 0.749634200761 with C: 0.001\n"
     ]
    }
   ],
   "source": [
    "means = [sc.mean_validation_score for sc in scores_lr4]\n",
    "min_index = np.argmin(means)\n",
    "max_index = np.argmax(means)\n",
    "print 'Min score: {sc} with C: {c}'.format(sc=scores_lr4[min_index].mean_validation_score, c=scores_lr4[min_index].parameters['C'])\n",
    "print 'Max score: {sc} with C: {c}'.format(sc=scores_lr4[max_index].mean_validation_score, c=scores_lr4[max_index].parameters['C'])"
   ]
  },
  {
   "cell_type": "markdown",
   "metadata": {
    "collapsed": true
   },
   "source": [
    "______\n",
    "# Making predictions for test data"
   ]
  },
  {
   "cell_type": "code",
   "execution_count": 17,
   "metadata": {
    "collapsed": false
   },
   "outputs": [
    {
     "name": "stdout",
     "output_type": "stream",
     "text": [
      "Total unique heroes: 108\n"
     ]
    }
   ],
   "source": [
    "test_data = pandas.read_csv('features_test.csv', index_col='match_id')\n",
    "\n",
    "X_pick_test = get_X_pick(test_data)\n",
    "\n",
    "remove_categorial_features(test_data)\n",
    "\n",
    "test_data.fillna(0, inplace=True)\n",
    "X_test = np.hstack((test_data.values, X_pick_test))\n",
    "X_test = StandardScaler().fit_transform(X_test)"
   ]
  },
  {
   "cell_type": "code",
   "execution_count": 18,
   "metadata": {
    "collapsed": true
   },
   "outputs": [],
   "source": [
    "prob = clf_lr4.best_estimator_.predict_proba(X_test)[:, 1]"
   ]
  },
  {
   "cell_type": "code",
   "execution_count": 19,
   "metadata": {
    "collapsed": false
   },
   "outputs": [
    {
     "name": "stdout",
     "output_type": "stream",
     "text": [
      "Min probability for match 33469: 0.0099\n",
      "Max probability for match 14176: 0.9948\n"
     ]
    }
   ],
   "source": [
    "min_i = np.argmin(prob)\n",
    "max_i = np.argmax(prob)\n",
    "\n",
    "print 'Min probability for match {match_id}: {prob:.4f}'.format(match_id=test_data.index[min_i], prob=prob[min_i])\n",
    "print 'Max probability for match {match_id}: {prob:.4f}'.format(match_id=test_data.index[max_i], prob=prob[max_i])"
   ]
  },
  {
   "cell_type": "code",
   "execution_count": 20,
   "metadata": {
    "collapsed": false
   },
   "outputs": [
    {
     "data": {
      "text/html": [
       "<div>\n",
       "<table border=\"1\" class=\"dataframe\">\n",
       "  <thead>\n",
       "    <tr style=\"text-align: right;\">\n",
       "      <th></th>\n",
       "      <th>radiant_win</th>\n",
       "    </tr>\n",
       "    <tr>\n",
       "      <th>match_id</th>\n",
       "      <th></th>\n",
       "    </tr>\n",
       "  </thead>\n",
       "  <tbody>\n",
       "    <tr>\n",
       "      <th>6</th>\n",
       "      <td>0.804083</td>\n",
       "    </tr>\n",
       "    <tr>\n",
       "      <th>7</th>\n",
       "      <td>0.739873</td>\n",
       "    </tr>\n",
       "    <tr>\n",
       "      <th>10</th>\n",
       "      <td>0.203353</td>\n",
       "    </tr>\n",
       "    <tr>\n",
       "      <th>13</th>\n",
       "      <td>0.837129</td>\n",
       "    </tr>\n",
       "    <tr>\n",
       "      <th>16</th>\n",
       "      <td>0.267473</td>\n",
       "    </tr>\n",
       "  </tbody>\n",
       "</table>\n",
       "</div>"
      ],
      "text/plain": [
       "          radiant_win\n",
       "match_id             \n",
       "6            0.804083\n",
       "7            0.739873\n",
       "10           0.203353\n",
       "13           0.837129\n",
       "16           0.267473"
      ]
     },
     "execution_count": 20,
     "metadata": {},
     "output_type": "execute_result"
    }
   ],
   "source": [
    "df = pandas.DataFrame({\n",
    "        'match_id': test_data.index,\n",
    "        'radiant_win': prob\n",
    "    })\n",
    "df.set_index('match_id', inplace=True)\n",
    "\n",
    "with open('test_predictions.csv', 'w') as f:\n",
    "    df.to_csv(f)\n",
    "    \n",
    "df.head()"
   ]
  }
 ],
 "metadata": {
  "kernelspec": {
   "display_name": "Python 2",
   "language": "python",
   "name": "python2"
  },
  "language_info": {
   "codemirror_mode": {
    "name": "ipython",
    "version": 2
   },
   "file_extension": ".py",
   "mimetype": "text/x-python",
   "name": "python",
   "nbconvert_exporter": "python",
   "pygments_lexer": "ipython2",
   "version": "2.7.11"
  }
 },
 "nbformat": 4,
 "nbformat_minor": 0
}

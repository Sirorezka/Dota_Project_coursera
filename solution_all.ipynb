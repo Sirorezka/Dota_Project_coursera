{
 "cells": [
  {
   "cell_type": "markdown",
   "metadata": {},
   "source": [
    "# Final Project"
   ]
  },
  {
   "cell_type": "markdown",
   "metadata": {},
   "source": [
    "### Part 1 - Boosting"
   ]
  },
  {
   "cell_type": "code",
   "execution_count": 2,
   "metadata": {
    "collapsed": true
   },
   "outputs": [],
   "source": [
    "# Loading libraries\n",
    "%matplotlib inline\n",
    "\n",
    "import pandas as pd\n",
    "import numpy as np\n",
    "import matplotlib.pyplot as plt\n",
    "from sklearn.cross_validation import KFold, cross_val_score\n",
    "from sklearn.ensemble import GradientBoostingClassifier\n",
    "from sklearn.metrics import roc_auc_score"
   ]
  },
  {
   "cell_type": "code",
   "execution_count": 3,
   "metadata": {
    "collapsed": true
   },
   "outputs": [],
   "source": [
    "# Loading data\n",
    "\n",
    "data_train = pd.read_csv (\"data/features.csv\")\n",
    "data_test = pd.read_csv (\"data/features_test.csv\")"
   ]
  },
  {
   "cell_type": "code",
   "execution_count": 4,
   "metadata": {
    "collapsed": false
   },
   "outputs": [
    {
     "name": "stdout",
     "output_type": "stream",
     "text": [
      "radiant_win\n"
     ]
    }
   ],
   "source": [
    "# Deleting features that contain match results,\n",
    "y = data_train.iloc[:,104]\n",
    "data_cols_names = list(data_train.columns.values)\n",
    "\n",
    "data_train = data_train.iloc[:,:103]\n",
    "print (data_cols_names[104])"
   ]
  },
  {
   "cell_type": "code",
   "execution_count": 5,
   "metadata": {
    "collapsed": false
   },
   "outputs": [
    {
     "name": "stdout",
     "output_type": "stream",
     "text": [
      "('Number of missing columns', 12)\n",
      "['first_blood_time', 'first_blood_team', 'first_blood_player1', 'first_blood_player2', 'radiant_bottle_time', 'radiant_courier_time', 'radiant_flying_courier_time', 'radiant_first_ward_time', 'dire_bottle_time', 'dire_courier_time', 'dire_flying_courier_time', 'dire_first_ward_time']\n"
     ]
    }
   ],
   "source": [
    "# Looking at columns that contain missing values in train data\n",
    "\n",
    "empties = (data_train.count()!=data_train.shape[0])\n",
    "missing_cols_names = list(data_train.loc[:,empties].columns.values)\n",
    "print (\"Number of missing columns\",sum(empties))\n",
    "print (missing_cols_names)"
   ]
  },
  {
   "cell_type": "code",
   "execution_count": 6,
   "metadata": {
    "collapsed": false
   },
   "outputs": [
    {
     "name": "stdout",
     "output_type": "stream",
     "text": [
      "('Number of missing columns', 12)\n",
      "['first_blood_time', 'first_blood_team', 'first_blood_player1', 'first_blood_player2', 'radiant_bottle_time', 'radiant_courier_time', 'radiant_flying_courier_time', 'radiant_first_ward_time', 'dire_bottle_time', 'dire_courier_time', 'dire_flying_courier_time', 'dire_first_ward_time']\n"
     ]
    }
   ],
   "source": [
    "# Looking at columns that contain missing values in test data\n",
    "\n",
    "empties = (data_test.count()!=data_test.shape[0])\n",
    "missing_cols_names = list(data_test.loc[:,empties].columns.values)\n",
    "print (\"Number of missing columns\",sum(empties))\n",
    "print (missing_cols_names)"
   ]
  },
  {
   "cell_type": "code",
   "execution_count": 7,
   "metadata": {
    "collapsed": true
   },
   "outputs": [],
   "source": [
    "# Filling NAs with zeros\n",
    "\n",
    "data_train = data_train.fillna(value=0)\n",
    "data_test = data_test.fillna(value=0)"
   ]
  },
  {
   "cell_type": "code",
   "execution_count": 8,
   "metadata": {
    "collapsed": false
   },
   "outputs": [
    {
     "name": "stdout",
     "output_type": "stream",
     "text": [
      "('num trees:', 10, ' score:', 0.66485069327216473)\n",
      "('num trees:', 20, ' score:', 0.68246188104131489)\n",
      "('num trees:', 30, ' score:', 0.69000646786084108)\n",
      "('num trees:', 40, ' score:', 0.69403872133401134)\n",
      "('num trees:', 50, ' score:', 0.6974943598879767)\n",
      "('num trees:', 60, ' score:', 0.70011931355530144)\n",
      "('num trees:', 70, ' score:', 0.70211654251275879)\n"
     ]
    }
   ],
   "source": [
    "# Cross Validation with different number of trees\n",
    "\n",
    "X_cross = KFold(data_train.shape[0],n_folds=5,random_state=42, shuffle =True)\n",
    "\n",
    "estim_pars = np.arange(10,80,10)\n",
    "\n",
    "scores_arr = []\n",
    "\n",
    "for n_trees in estim_pars:\n",
    "    clf = GradientBoostingClassifier (n_estimators = n_trees)\n",
    "    scores = cross_val_score (clf, data_train, y, cv = X_cross, scoring='roc_auc')\n",
    "    scores_arr.append(scores.mean())\n",
    "    print (\"num trees:\",n_trees,\" score:\",scores.mean())"
   ]
  },
  {
   "cell_type": "code",
   "execution_count": 9,
   "metadata": {
    "collapsed": false
   },
   "outputs": [
    {
     "name": "stdout",
     "output_type": "stream",
     "text": [
      "[0.66485069327216473, 0.68246188104131489, 0.69000646786084108, 0.69403872133401134, 0.6974943598879767, 0.70011931355530144, 0.70211654251275879]\n"
     ]
    }
   ],
   "source": [
    "print (scores_arr)"
   ]
  },
  {
   "cell_type": "code",
   "execution_count": 10,
   "metadata": {
    "collapsed": false
   },
   "outputs": [
    {
     "data": {
      "image/png": "[encoded data removed]",
      "text/plain": [
       "<matplotlib.figure.Figure at 0x7f3804e005d0>"
      ]
     },
     "metadata": {},
     "output_type": "display_data"
    }
   ],
   "source": [
    "plt.plot(estim_pars, scores_arr)\n",
    "plt.show()"
   ]
  },
  {
   "cell_type": "code",
   "execution_count": 12,
   "metadata": {
    "collapsed": false
   },
   "outputs": [
    {
     "name": "stdout",
     "output_type": "stream",
     "text": [
      "('Time elapsed:', datetime.timedelta(0, 90, 654956))\n"
     ]
    }
   ],
   "source": [
    "# Estimating time needed to build 30 trees\n",
    "\n",
    "import time\n",
    "import datetime\n",
    "\n",
    "n_trees = 30\n",
    "\n",
    "start_time = datetime.datetime.now()\n",
    "\n",
    "clf = GradientBoostingClassifier (n_estimators = n_trees)\n",
    "scores = cross_val_score (clf, data_train, y, cv = X_cross, scoring='roc_auc')\n",
    "\n",
    "print ('Time elapsed:', datetime.datetime.now() - start_time)"
   ]
  },
  {
   "cell_type": "markdown",
   "metadata": {},
   "source": [
    "### Part 2 - Logistic"
   ]
  },
  {
   "cell_type": "code",
   "execution_count": 66,
   "metadata": {
    "collapsed": false
   },
   "outputs": [],
   "source": [
    "# Loading libraries\n",
    "%matplotlib inline\n",
    "\n",
    "import pandas as pd\n",
    "import numpy as np\n",
    "import matplotlib.pyplot as plt\n",
    "from sklearn.cross_validation import KFold, cross_val_score\n",
    "from sklearn.ensemble import GradientBoostingClassifier\n",
    "from sklearn.metrics import roc_auc_score\n",
    "from sklearn.linear_model import LogisticRegression\n",
    "from sklearn.preprocessing import StandardScaler\n",
    "#from sklearn.preprocessing import StandartScaler"
   ]
  },
  {
   "cell_type": "code",
   "execution_count": 67,
   "metadata": {
    "collapsed": false
   },
   "outputs": [],
   "source": [
    "# Loading data\n",
    "\n",
    "data_train = pd.read_csv (\"data/features.csv\")\n",
    "data_test = pd.read_csv (\"data/features_test.csv\")"
   ]
  },
  {
   "cell_type": "code",
   "execution_count": 68,
   "metadata": {
    "collapsed": false
   },
   "outputs": [
    {
     "name": "stdout",
     "output_type": "stream",
     "text": [
      "radiant_win\n"
     ]
    }
   ],
   "source": [
    "# Deleting features that contain match results,\n",
    "y = data_train.iloc[:,104]\n",
    "data_cols_names = list(data_train.columns.values)\n",
    "\n",
    "data_train = data_train.iloc[:,:103]\n",
    "print (data_cols_names[104])"
   ]
  },
  {
   "cell_type": "code",
   "execution_count": 69,
   "metadata": {
    "collapsed": false
   },
   "outputs": [
    {
     "name": "stdout",
     "output_type": "stream",
     "text": [
      "('Number of unique heroes: ', 108)\n"
     ]
    }
   ],
   "source": [
    "## Counting number of heroes\n",
    "\n",
    "match_cols = ['r1_hero','r2_hero','r3_hero','r4_hero','r5_hero','d1_hero','d2_hero','d3_hero','d4_hero','d5_hero']\n",
    "l1 = list(np.unique(data_train.ix[:,match_cols]))\n",
    "l2 = list(np.unique(data_test.ix[:,match_cols]))\n",
    "\n",
    "N = len(np.unique(np.hstack((l1,l2))))\n",
    "print (\"Number of unique heroes: \",N)\n"
   ]
  },
  {
   "cell_type": "code",
   "execution_count": 70,
   "metadata": {
    "collapsed": false
   },
   "outputs": [
    {
     "name": "stdout",
     "output_type": "stream",
     "text": [
      "('Number of missing columns', 12)\n",
      "['first_blood_time', 'first_blood_team', 'first_blood_player1', 'first_blood_player2', 'radiant_bottle_time', 'radiant_courier_time', 'radiant_flying_courier_time', 'radiant_first_ward_time', 'dire_bottle_time', 'dire_courier_time', 'dire_flying_courier_time', 'dire_first_ward_time']\n"
     ]
    }
   ],
   "source": [
    "# Looking at columns that contain missing values in train data\n",
    "\n",
    "empties = (data_train.count()!=data_train.shape[0])\n",
    "missing_cols_names = list(data_train.loc[:,empties].columns.values)\n",
    "print (\"Number of missing columns\",sum(empties))\n",
    "print (missing_cols_names)"
   ]
  },
  {
   "cell_type": "code",
   "execution_count": 71,
   "metadata": {
    "collapsed": false
   },
   "outputs": [
    {
     "name": "stdout",
     "output_type": "stream",
     "text": [
      "('Number of missing columns', 12)\n",
      "['first_blood_time', 'first_blood_team', 'first_blood_player1', 'first_blood_player2', 'radiant_bottle_time', 'radiant_courier_time', 'radiant_flying_courier_time', 'radiant_first_ward_time', 'dire_bottle_time', 'dire_courier_time', 'dire_flying_courier_time', 'dire_first_ward_time']\n"
     ]
    }
   ],
   "source": [
    "# Looking at columns that contain missing values in test data\n",
    "\n",
    "empties = (data_test.count()!=data_test.shape[0])\n",
    "missing_cols_names = list(data_test.loc[:,empties].columns.values)\n",
    "print (\"Number of missing columns\",sum(empties))\n",
    "print (missing_cols_names)"
   ]
  },
  {
   "cell_type": "code",
   "execution_count": 72,
   "metadata": {
    "collapsed": false
   },
   "outputs": [],
   "source": [
    "# Filling NAs with zeros\n",
    "\n",
    "data_train = data_train.fillna(value=0)\n",
    "data_test = data_test.fillna(value=0)\n",
    "\n",
    "col_names = list(data_train.columns.values)"
   ]
  },
  {
   "cell_type": "code",
   "execution_count": 73,
   "metadata": {
    "collapsed": false
   },
   "outputs": [],
   "source": [
    "# Scalling the data\n",
    "\n",
    "scaler = StandardScaler()\n",
    "data_train.iloc[:,:] = scaler.fit_transform(data_train)  # compute mean, std and transform training data as well\n",
    "data_test.iloc[:,:] = scaler.transform(data_test)  # same as above"
   ]
  },
  {
   "cell_type": "code",
   "execution_count": 17,
   "metadata": {
    "collapsed": false
   },
   "outputs": [
    {
     "name": "stdout",
     "output_type": "stream",
     "text": [
      "C param: 1e-05  score: 0.695214442359\n",
      "C param: 5e-05  score: 0.70707668095\n",
      "C param: 0.0001  score: 0.711437174977\n",
      "C param: 0.0005  score: 0.715968721959\n",
      "C param: 0.0008  score: 0.716343231922\n",
      "C param: 0.001  score: 0.716452183665\n",
      "C param: 0.02  score: 0.716626887268\n",
      "C param: 0.003  score: 0.716640093403\n",
      "C param: 0.004  score: 0.716649318005\n",
      "C param: 0.005  score: 0.716648905469\n",
      "C param: 0.006  score: 0.71664637495\n",
      "C param: 0.007  score: 0.716644556648\n",
      "C param: 0.008  score: 0.716642672229\n",
      "C param: 0.009  score: 0.71664022966\n",
      "C param: 0.01  score: 0.716639000088\n",
      "C param: 0.1  score: 0.716613454778\n",
      "C param: 1  score: 0.716609443383\n",
      "C param: 10  score: 0.71660885449\n"
     ]
    }
   ],
   "source": [
    "# Logistic regression with different C values\n",
    "\n",
    "X_cross = KFold(data_train.shape[0],n_folds=5,random_state=42, shuffle =True)\n",
    "\n",
    "estim_pars = [1e-5,5e-5,1e-4,5e-4,1e-3,2e-3,3e-3,4e-3,5e-3,6e-3,7e-3,8e-3,9e-3,1e-2,1e-1,1,10]\n",
    "\n",
    "scores_arr = []\n",
    "\n",
    "for C_par in estim_pars:\n",
    "    clf = LogisticRegression (penalty='l2', C = C_par)\n",
    "    scores = cross_val_score (clf, data_train, y, cv = X_cross, scoring='roc_auc')\n",
    "    scores_arr.append(scores.mean())\n",
    "    print (\"C param:\",C_par,\" score:\",scores.mean())\n"
   ]
  },
  {
   "cell_type": "code",
   "execution_count": 130,
   "metadata": {
    "collapsed": false,
    "scrolled": true
   },
   "outputs": [
    {
     "name": "stdout",
     "output_type": "stream",
     "text": [
      "[0.69515567248489463, 0.70704436843023311, 0.71141854079032463, 0.71598311079702137, 0.71646867232089417, 0.71666669677826844, 0.716657444790048, 0.7166388847818338, 0.71663614484569604, 0.71663384323825707, 0.71663332739232843, 0.71663281472045437] \n",
      "\n",
      "Maximum score:  0.716666696778\n"
     ]
    }
   ],
   "source": [
    "print (scores_arr,\"\\n\")\n",
    "print (\"Maximum score: \",max(scores_arr))"
   ]
  },
  {
   "cell_type": "code",
   "execution_count": 131,
   "metadata": {
    "collapsed": false
   },
   "outputs": [
    {
     "data": {
      "image/png": "[encoded data removed]",
      "text/plain": [
       "<matplotlib.figure.Figure at 0xbfc4eb8>"
      ]
     },
     "metadata": {},
     "output_type": "display_data"
    }
   ],
   "source": [
    "plt.plot(estim_pars[0:5], scores_arr[0:5])\n",
    "plt.show()"
   ]
  },
  {
   "cell_type": "code",
   "execution_count": 11,
   "metadata": {
    "collapsed": false
   },
   "outputs": [
    {
     "name": "stdout",
     "output_type": "stream",
     "text": [
      "('C param:', 1e-05, ' score:', 0.69515567248489463)\n",
      "('C param:', 5e-05, ' score:', 0.70704436843023311)\n",
      "('C param:', 0.0001, ' score:', 0.71141854079032463)\n",
      "('C param:', 0.0005, ' score:', 0.71598311079702137)\n",
      "('C param:', 0.001, ' score:', 0.71646867232089417)\n",
      "('C param:', 0.005, ' score:', 0.71666669677826844)\n",
      "('C param:', 0.01, ' score:', 0.716657444790048)\n",
      "('C param:', 0.05, ' score:', 0.7166388847818338)\n",
      "('C param:', 0.1, ' score:', 0.71663614484569604)\n",
      "('C param:', 0.5, ' score:', 0.71663384323825707)\n",
      "('C param:', 1, ' score:', 0.71663332739232843)\n",
      "('C param:', 10, ' score:', 0.71663281472045437)\n"
     ]
    }
   ],
   "source": [
    "# Cross Validation with different number of trees\n",
    "\n",
    "rem_cols = ['lobby_type','r1_hero','r2_hero','r3_hero','r4_hero','r5_hero','d1_hero','d2_hero','d3_hero','d4_hero','d5_hero']\n",
    "mask = np.in1d(col_names, rem_cols)\n",
    "\n",
    "X_cross = KFold(data_train.shape[0],n_folds=5,random_state=42, shuffle =True)\n",
    "\n",
    "estim_pars = [1e-5,5e-5,1e-4,5e-4,1e-3,5e-3,1e-2,5e-2,1e-1,5e-1,1,10]\n",
    "scores_arr = []\n",
    "\n",
    "for C_par in estim_pars:\n",
    "    clf = LogisticRegression (penalty='l2', C = C_par)\n",
    "    scores = cross_val_score (clf, data_train.iloc[:,~mask], y, cv = X_cross, scoring='roc_auc')\n",
    "    scores_arr.append(scores.mean())\n",
    "    print (\"C param:\",C_par,\" score:\",scores.mean())"
   ]
  },
  {
   "cell_type": "code",
   "execution_count": 74,
   "metadata": {
    "collapsed": false,
    "scrolled": false
   },
   "outputs": [
    {
     "name": "stderr",
     "output_type": "stream",
     "text": [
      "/home/sirorezka/anaconda2/envs/py27/lib/python2.7/site-packages/ipykernel/__main__.py:11: DeprecationWarning: using a non-integer number instead of an integer will result in an error in the future\n",
      "/home/sirorezka/anaconda2/envs/py27/lib/python2.7/site-packages/ipykernel/__main__.py:12: DeprecationWarning: using a non-integer number instead of an integer will result in an error in the future\n",
      "/home/sirorezka/anaconda2/envs/py27/lib/python2.7/site-packages/ipykernel/__main__.py:21: DeprecationWarning: using a non-integer number instead of an integer will result in an error in the future\n",
      "/home/sirorezka/anaconda2/envs/py27/lib/python2.7/site-packages/ipykernel/__main__.py:22: DeprecationWarning: using a non-integer number instead of an integer will result in an error in the future\n"
     ]
    }
   ],
   "source": [
    "data_train = pd.DataFrame(data_train)\n",
    "data_test = pd.DataFrame(data_test)\n",
    "\n",
    "\n",
    "\n",
    "# N — количество различных героев в выборке\n",
    "X_pick_train = np.zeros((data_train.shape[0], N))\n",
    "\n",
    "for i, match_id in enumerate(data_train.index):\n",
    "    for p in range(5):\n",
    "        X_pick_train[i, data_train.ix[match_id, 'r%d_hero' % (p+1)]-1] = 1\n",
    "        X_pick_train[i, data_train.ix[match_id, 'd%d_hero' % (p+1)]-1] = -1\n",
    "\n",
    "        \n",
    "# N — количество различных героев в выборке\n",
    "\n",
    "X_pick_test = np.zeros((data_test.shape[0], N))\n",
    "\n",
    "for i, match_id in enumerate(data_test.index):\n",
    "    for p in range(5):\n",
    "        X_pick_test[i, data_test.ix[match_id, 'r%d_hero' % (p+1)]-1] = 1\n",
    "        X_pick_test[i, data_test.ix[match_id, 'd%d_hero' % (p+1)]-1] = -1\n",
    "\n",
    "    "
   ]
  },
  {
   "cell_type": "code",
   "execution_count": 75,
   "metadata": {
    "collapsed": false
   },
   "outputs": [
    {
     "name": "stdout",
     "output_type": "stream",
     "text": [
      "(97230, 211)\n"
     ]
    }
   ],
   "source": [
    "data_train = pd.concat([data_train, pd.DataFrame(X_pick_train)],axis=1)\n",
    "data_test = pd.concat([data_test, pd.DataFrame(X_pick_test)],axis=1)\n",
    "\n",
    "X_pick_train = []\n",
    "X_pick_test = []\n",
    "\n",
    "print (data_train.shape)"
   ]
  },
  {
   "cell_type": "code",
   "execution_count": 83,
   "metadata": {
    "collapsed": false
   },
   "outputs": [
    {
     "name": "stdout",
     "output_type": "stream",
     "text": [
      "('C param:', 1e-05, ' score:', 0.69533878122880266)\n",
      "('C param:', 5e-05, ' score:', 0.70741372355244958)\n",
      "('C param:', 0.0001, ' score:', 0.7118603989995369)\n",
      "('C param:', 0.0005, ' score:', 0.71647988190911005)\n",
      "('C param:', 0.001, ' score:', 0.71696254124834302)\n",
      "('C param:', 0.005, ' score:', 0.71715577483763515)\n",
      "('C param:', 0.01, ' score:', 0.71714421955484164)\n",
      "('C param:', 0.05, ' score:', 0.71712001745894205)\n",
      "('C param:', 0.1, ' score:', 0.71711692244276126)\n",
      "('C param:', 0.5, ' score:', 0.7171133465804016)\n",
      "('C param:', 1, ' score:', 0.71711261887921729)\n",
      "('C param:', 10, ' score:', 0.71711272168589724)\n"
     ]
    }
   ],
   "source": [
    "# Cross Validation with different number of trees\n",
    "col_names = list(data_train.columns.values)\n",
    "\n",
    "rem_cols = ['lobby_type','r1_hero','r2_hero','r3_hero','r4_hero','r5_hero','d1_hero','d2_hero','d3_hero','d4_hero','d5_hero']\n",
    "mask = np.in1d(col_names, rem_cols)\n",
    "\n",
    "X_cross = KFold(data_train.shape[0],n_folds=5,random_state=42, shuffle =True)\n",
    "\n",
    "estim_pars = [1e-5,5e-5,1e-4,5e-4,1e-3,5e-3,1e-2,5e-2,1e-1,5e-1,1,10]\n",
    "scores_arr = []\n",
    "\n",
    "for C_par in estim_pars:\n",
    "    clf = LogisticRegression (penalty='l2', C = C_par)\n",
    "    scores = cross_val_score (clf, data_train.iloc[:,~mask], y, cv = X_cross, scoring='roc_auc')\n",
    "    scores_arr.append(scores.mean())\n",
    "    print (\"C param:\",C_par,\" score:\",scores.mean())"
   ]
  },
  {
   "cell_type": "code",
   "execution_count": 87,
   "metadata": {
    "collapsed": false
   },
   "outputs": [],
   "source": [
    "clf = LogisticRegression (penalty='l2', C = 0.005)\n",
    "clf.fit(data_train,y)\n",
    "\n",
    "pred = clf.predict_proba(data_test)[:, 1]"
   ]
  },
  {
   "cell_type": "code",
   "execution_count": 93,
   "metadata": {
    "collapsed": false
   },
   "outputs": [
    {
     "name": "stdout",
     "output_type": "stream",
     "text": [
      "('min prob value: ', 0.0073836821292843661)\n",
      "('max prob value: ', 0.98731135024948979)\n"
     ]
    }
   ],
   "source": [
    "print(\"min prob value: \",pred.min())\n",
    "print(\"max prob value: \",pred.max())"
   ]
  },
  {
   "cell_type": "code",
   "execution_count": null,
   "metadata": {
    "collapsed": true
   },
   "outputs": [],
   "source": []
  }
 ],
 "metadata": {
  "kernelspec": {
   "display_name": "Python 2",
   "language": "python",
   "name": "python2"
  },
  "language_info": {
   "codemirror_mode": {
    "name": "ipython",
    "version": 2
   },
   "file_extension": ".py",
   "mimetype": "text/x-python",
   "name": "python",
   "nbconvert_exporter": "python",
   "pygments_lexer": "ipython2",
   "version": "2.7.11"
  }
 },
 "nbformat": 4,
 "nbformat_minor": 0
}

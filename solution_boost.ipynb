{
 "cells": [
  {
   "cell_type": "markdown",
   "metadata": {},
   "source": [
    "# Final Project"
   ]
  },
  {
   "cell_type": "code",
   "execution_count": 171,
   "metadata": {
    "collapsed": true
   },
   "outputs": [],
   "source": [
    "# Loading libraries\n",
    "%matplotlib inline\n",
    "\n",
    "import pandas as pd\n",
    "import numpy as np\n",
    "import matplotlib.pyplot as plt\n",
    "from sklearn.cross_validation import KFold, cross_val_score\n",
    "from sklearn.ensemble import GradientBoostingClassifier\n",
    "from sklearn.metrics import roc_auc_score"
   ]
  },
  {
   "cell_type": "code",
   "execution_count": 148,
   "metadata": {
    "collapsed": true
   },
   "outputs": [],
   "source": [
    "# Loading data\n",
    "\n",
    "data_train = pd.read_csv (\"data/features.csv\")\n",
    "data_test = pd.read_csv (\"data/features_test.csv\")"
   ]
  },
  {
   "cell_type": "code",
   "execution_count": 149,
   "metadata": {
    "collapsed": false
   },
   "outputs": [
    {
     "name": "stdout",
     "output_type": "stream",
     "text": [
      "radiant_win\n"
     ]
    }
   ],
   "source": [
    "# Deleting features that contain match results,\n",
    "y = data_train.iloc[:,104]\n",
    "data_cols_names = list(data_train.columns.values)\n",
    "\n",
    "data_train = data_train.iloc[:,:103]\n",
    "print (data_cols_names[104])"
   ]
  },
  {
   "cell_type": "code",
   "execution_count": 150,
   "metadata": {
    "collapsed": false
   },
   "outputs": [
    {
     "name": "stdout",
     "output_type": "stream",
     "text": [
      "Number of missing columns 12\n",
      "['first_blood_time', 'first_blood_team', 'first_blood_player1', 'first_blood_player2', 'radiant_bottle_time', 'radiant_courier_time', 'radiant_flying_courier_time', 'radiant_first_ward_time', 'dire_bottle_time', 'dire_courier_time', 'dire_flying_courier_time', 'dire_first_ward_time']\n"
     ]
    }
   ],
   "source": [
    "# Looking at columns that contain missing values in train data\n",
    "\n",
    "empties = (data_train.count()!=data_train.shape[0])\n",
    "missing_cols_names = list(data_train.loc[:,empties].columns.values)\n",
    "print (\"Number of missing columns\",sum(empties))\n",
    "print (missing_cols_names)"
   ]
  },
  {
   "cell_type": "code",
   "execution_count": 151,
   "metadata": {
    "collapsed": false
   },
   "outputs": [
    {
     "name": "stdout",
     "output_type": "stream",
     "text": [
      "Number of missing columns 12\n",
      "['first_blood_time', 'first_blood_team', 'first_blood_player1', 'first_blood_player2', 'radiant_bottle_time', 'radiant_courier_time', 'radiant_flying_courier_time', 'radiant_first_ward_time', 'dire_bottle_time', 'dire_courier_time', 'dire_flying_courier_time', 'dire_first_ward_time']\n"
     ]
    }
   ],
   "source": [
    "# Looking at columns that contain missing values in test data\n",
    "\n",
    "empties = (data_test.count()!=data_test.shape[0])\n",
    "missing_cols_names = list(data_test.loc[:,empties].columns.values)\n",
    "print (\"Number of missing columns\",sum(empties))\n",
    "print (missing_cols_names)"
   ]
  },
  {
   "cell_type": "code",
   "execution_count": 152,
   "metadata": {
    "collapsed": false
   },
   "outputs": [],
   "source": [
    "# Filling NAs with zeros\n",
    "\n",
    "data_train = data_train.fillna(value=0)\n",
    "data_test = data_test.fillna(value=0)\n",
    "\n"
   ]
  },
  {
   "cell_type": "code",
   "execution_count": 169,
   "metadata": {
    "collapsed": false
   },
   "outputs": [],
   "source": [
    "# Cross Validation with different number of trees\n",
    "\n",
    "X_cross = KFold(data_train.shape[0],n_folds=5,random_state=42, shuffle =True)\n",
    "\n",
    "estim_pars = np.arange(10,80,10)\n",
    "\n",
    "scores_arr = []\n",
    "\n",
    "for n_trees in estim_pars:\n",
    "    clf = GradientBoostingClassifier (n_estimators = n_trees)\n",
    "    scores = cross_val_score (clf, data_train, y, cv = X_cross, scoring='roc_auc')\n",
    "    scores_arr.append(scores.mean())\n",
    "    print (\"num trees:\",n_trees,\" score:\",scores.mean())\n"
   ]
  },
  {
   "cell_type": "code",
   "execution_count": 170,
   "metadata": {
    "collapsed": false
   },
   "outputs": [
    {
     "name": "stdout",
     "output_type": "stream",
     "text": [
      "[0.66485069327216473, 0.68246188104131489, 0.69000646786084108, 0.69403872133401134, 0.6974943598879767, 0.70011931355530144, 0.70211654251275879]\n"
     ]
    }
   ],
   "source": [
    "print (scores_arr)"
   ]
  },
  {
   "cell_type": "code",
   "execution_count": 173,
   "metadata": {
    "collapsed": false
   },
   "outputs": [
    {
     "data": {
      "image/png": "[encoded data removed]",
      "text/plain": [
       "<matplotlib.figure.Figure at 0x257560f0>"
      ]
     },
     "metadata": {},
     "output_type": "display_data"
    }
   ],
   "source": [
    "plt.plot(estim_pars, scores_arr)\n",
    "plt.show()"
   ]
  },
  {
   "cell_type": "code",
   "execution_count": 177,
   "metadata": {
    "collapsed": false
   },
   "outputs": [
    {
     "name": "stdout",
     "output_type": "stream",
     "text": [
      "Time elapsed: 0:02:05.539000\n"
     ]
    }
   ],
   "source": [
    "# Estimating time needed to build 30 trees\n",
    "\n",
    "import time\n",
    "import datetime\n",
    "\n",
    "n_trees = 30\n",
    "\n",
    "start_time = datetime.datetime.now()\n",
    "\n",
    "clf = GradientBoostingClassifier (n_estimators = n_trees)\n",
    "scores = cross_val_score (clf, data_train, y, cv = X_cross, scoring='roc_auc')\n",
    "\n",
    "print ('Time elapsed:', datetime.datetime.now() - start_time)"
   ]
  },
  {
   "cell_type": "code",
   "execution_count": null,
   "metadata": {
    "collapsed": true
   },
   "outputs": [],
   "source": []
  }
 ],
 "metadata": {
  "kernelspec": {
   "display_name": "Python 2",
   "language": "python",
   "name": "python2"
  },
  "language_info": {
   "codemirror_mode": {
    "name": "ipython",
    "version": 2
   },
   "file_extension": ".py",
   "mimetype": "text/x-python",
   "name": "python",
   "nbconvert_exporter": "python",
   "pygments_lexer": "ipython2",
   "version": "2.7.11"
  }
 },
 "nbformat": 4,
 "nbformat_minor": 0
}

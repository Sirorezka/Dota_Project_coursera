{
 "cells": [
  {
   "cell_type": "markdown",
   "metadata": {},
   "source": [
    "# Final Project"
   ]
  },
  {
   "cell_type": "markdown",
   "metadata": {},
   "source": [
    "### Part 1 - Boosting"
   ]
  },
  {
   "cell_type": "code",
   "execution_count": 1,
   "metadata": {
    "collapsed": true
   },
   "outputs": [],
   "source": [
    "# Loading libraries\n",
    "%matplotlib inline\n",
    "\n",
    "import pandas as pd\n",
    "import numpy as np\n",
    "import matplotlib.pyplot as plt\n",
    "from sklearn.cross_validation import KFold, cross_val_score\n",
    "from sklearn.ensemble import GradientBoostingClassifier\n",
    "from sklearn.metrics import roc_auc_score"
   ]
  },
  {
   "cell_type": "code",
   "execution_count": 2,
   "metadata": {
    "collapsed": true
   },
   "outputs": [],
   "source": [
    "# Loading data\n",
    "\n",
    "data_train = pd.read_csv (\"data/features.csv\")\n",
    "data_test = pd.read_csv (\"data/features_test.csv\")"
   ]
  },
  {
   "cell_type": "code",
   "execution_count": 3,
   "metadata": {
    "collapsed": false
   },
   "outputs": [
    {
     "name": "stdout",
     "output_type": "stream",
     "text": [
      "radiant_win\n"
     ]
    }
   ],
   "source": [
    "# Deleting features that contain match results,\n",
    "y = data_train.iloc[:,104]\n",
    "data_cols_names = list(data_train.columns.values)\n",
    "\n",
    "data_train = data_train.iloc[:,:103]\n",
    "print (data_cols_names[104])"
   ]
  },
  {
   "cell_type": "code",
   "execution_count": 4,
   "metadata": {
    "collapsed": false
   },
   "outputs": [
    {
     "name": "stdout",
     "output_type": "stream",
     "text": [
      "('Number of missing columns', 12)\n",
      "['first_blood_time', 'first_blood_team', 'first_blood_player1', 'first_blood_player2', 'radiant_bottle_time', 'radiant_courier_time', 'radiant_flying_courier_time', 'radiant_first_ward_time', 'dire_bottle_time', 'dire_courier_time', 'dire_flying_courier_time', 'dire_first_ward_time']\n"
     ]
    }
   ],
   "source": [
    "# Looking at columns that contain missing values in train data\n",
    "\n",
    "empties = (data_train.count()!=data_train.shape[0])\n",
    "missing_cols_names = list(data_train.loc[:,empties].columns.values)\n",
    "print (\"Number of missing columns\",sum(empties))\n",
    "print (missing_cols_names)"
   ]
  },
  {
   "cell_type": "code",
   "execution_count": 5,
   "metadata": {
    "collapsed": false
   },
   "outputs": [
    {
     "name": "stdout",
     "output_type": "stream",
     "text": [
      "('Number of missing columns', 12)\n",
      "['first_blood_time', 'first_blood_team', 'first_blood_player1', 'first_blood_player2', 'radiant_bottle_time', 'radiant_courier_time', 'radiant_flying_courier_time', 'radiant_first_ward_time', 'dire_bottle_time', 'dire_courier_time', 'dire_flying_courier_time', 'dire_first_ward_time']\n"
     ]
    }
   ],
   "source": [
    "# Looking at columns that contain missing values in test data\n",
    "\n",
    "empties = (data_test.count()!=data_test.shape[0])\n",
    "missing_cols_names = list(data_test.loc[:,empties].columns.values)\n",
    "print (\"Number of missing columns\",sum(empties))\n",
    "print (missing_cols_names)"
   ]
  },
  {
   "cell_type": "code",
   "execution_count": 6,
   "metadata": {
    "collapsed": true
   },
   "outputs": [],
   "source": [
    "# Filling NAs with zeros\n",
    "\n",
    "data_train = data_train.fillna(value=0)\n",
    "data_test = data_test.fillna(value=0)"
   ]
  },
  {
   "cell_type": "code",
   "execution_count": 7,
   "metadata": {
    "collapsed": false
   },
   "outputs": [
    {
     "name": "stdout",
     "output_type": "stream",
     "text": [
      "('num trees:', 10, ' score:', 0.66485069327216473)\n",
      "('num trees:', 20, ' score:', 0.68246188104131489)\n",
      "('num trees:', 30, ' score:', 0.69000646786084108)\n",
      "('num trees:', 40, ' score:', 0.69403872133401134)\n",
      "('num trees:', 50, ' score:', 0.6974943598879767)\n",
      "('num trees:', 60, ' score:', 0.70011931355530144)\n",
      "('num trees:', 70, ' score:', 0.70211654251275879)\n"
     ]
    }
   ],
   "source": [
    "# Cross Validation with different number of trees\n",
    "\n",
    "X_cross = KFold(data_train.shape[0],n_folds=5,random_state=42, shuffle =True)\n",
    "\n",
    "estim_pars = np.arange(10,80,10)\n",
    "\n",
    "scores_arr = []\n",
    "\n",
    "for n_trees in estim_pars:\n",
    "    clf = GradientBoostingClassifier (n_estimators = n_trees)\n",
    "    scores = cross_val_score (clf, data_train, y, cv = X_cross, scoring='roc_auc')\n",
    "    scores_arr.append(scores.mean())\n",
    "    print (\"num trees:\",n_trees,\" score:\",scores.mean())"
   ]
  },
  {
   "cell_type": "code",
   "execution_count": 8,
   "metadata": {
    "collapsed": false
   },
   "outputs": [
    {
     "name": "stdout",
     "output_type": "stream",
     "text": [
      "[0.66485069327216473, 0.68246188104131489, 0.69000646786084108, 0.69403872133401134, 0.6974943598879767, 0.70011931355530144, 0.70211654251275879]\n"
     ]
    }
   ],
   "source": [
    "print (scores_arr)"
   ]
  },
  {
   "cell_type": "code",
   "execution_count": 9,
   "metadata": {
    "collapsed": false
   },
   "outputs": [
    {
     "data": {
      "image/png": "[encoded data removed]",
      "text/plain": [
       "<matplotlib.figure.Figure at 0x7f39696d8610>"
      ]
     },
     "metadata": {},
     "output_type": "display_data"
    }
   ],
   "source": [
    "plt.plot(estim_pars, scores_arr)\n",
    "plt.show()"
   ]
  },
  {
   "cell_type": "code",
   "execution_count": 11,
   "metadata": {
    "collapsed": false
   },
   "outputs": [],
   "source": [
    "# Estimating time needed to build 30 trees\n",
    "\n",
    "import time\n",
    "import datetime\n",
    "\n",
    "n_trees = 30\n",
    "\n",
    "start_time = datetime.datetime.now()\n",
    "\n",
    "clf = GradientBoostingClassifier (n_estimators = n_trees)\n",
    "scores = cross_val_score (clf, data_train, y, cv = X_cross, scoring='roc_auc')\n",
    "\n",
    "elapsed_time = datetime.datetime.now() - start_time\n",
    "\n"
   ]
  },
  {
   "cell_type": "code",
   "execution_count": 29,
   "metadata": {
    "collapsed": false
   },
   "outputs": [
    {
     "name": "stdout",
     "output_type": "stream",
     "text": [
      "('Time elapsed:', '0:01:30.043782')\n"
     ]
    }
   ],
   "source": [
    "print ('Time elapsed:', str(elapsed_time))"
   ]
  },
  {
   "cell_type": "markdown",
   "metadata": {},
   "source": [
    "### Part 2 - Logistic"
   ]
  },
  {
   "cell_type": "code",
   "execution_count": 104,
   "metadata": {
    "collapsed": false
   },
   "outputs": [],
   "source": [
    "# Loading libraries\n",
    "%matplotlib inline\n",
    "\n",
    "import pandas as pd\n",
    "import numpy as np\n",
    "import matplotlib.pyplot as plt\n",
    "from sklearn.cross_validation import KFold, cross_val_score\n",
    "from sklearn.ensemble import GradientBoostingClassifier\n",
    "from sklearn.metrics import roc_auc_score\n",
    "from sklearn.linear_model import LogisticRegression\n",
    "from sklearn.preprocessing import StandardScaler\n",
    "#from sklearn.preprocessing import StandartScaler"
   ]
  },
  {
   "cell_type": "code",
   "execution_count": 105,
   "metadata": {
    "collapsed": false
   },
   "outputs": [],
   "source": [
    "# Loading data\n",
    "\n",
    "data_train = pd.read_csv (\"data/features.csv\")\n",
    "data_test = pd.read_csv (\"data/features_test.csv\")"
   ]
  },
  {
   "cell_type": "code",
   "execution_count": 106,
   "metadata": {
    "collapsed": false
   },
   "outputs": [
    {
     "name": "stdout",
     "output_type": "stream",
     "text": [
      "radiant_win\n"
     ]
    }
   ],
   "source": [
    "# Deleting features that contain match results,\n",
    "y = data_train.iloc[:,104]\n",
    "data_cols_names = list(data_train.columns.values)\n",
    "\n",
    "data_train = data_train.iloc[:,:103]\n",
    "data_test = data_test.iloc[:,:103]\n",
    "print (data_cols_names[104])\n"
   ]
  },
  {
   "cell_type": "code",
   "execution_count": 107,
   "metadata": {
    "collapsed": false
   },
   "outputs": [],
   "source": [
    "# Filling NAs with zeros\n",
    "\n",
    "data_train = data_train.fillna(value=0)\n",
    "data_test = data_test.fillna(value=0)\n",
    "\n",
    "col_names = list(data_train.columns.values)"
   ]
  },
  {
   "cell_type": "code",
   "execution_count": 131,
   "metadata": {
    "collapsed": false
   },
   "outputs": [
    {
     "name": "stdout",
     "output_type": "stream",
     "text": [
      "('Max hero number: ', 112)\n",
      "('Number of unique heroes: ', 108)\n"
     ]
    }
   ],
   "source": [
    "## Counting number of heroes\n",
    "\n",
    "match_cols = ['r1_hero','r2_hero','r3_hero','r4_hero','r5_hero','d1_hero','d2_hero','d3_hero','d4_hero','d5_hero']\n",
    "l1 = list(np.unique(data_train.ix[:,match_cols]))\n",
    "l2 = list(np.unique(data_test.ix[:,match_cols]))\n",
    "l_join = np.hstack((l1,l2))\n",
    "\n",
    "N = len(np.unique(l_join))\n",
    "N_max = max(l_join)\n",
    "print (\"Max hero number: \", N_max)\n",
    "print (\"Number of unique heroes: \", N)"
   ]
  },
  {
   "cell_type": "code",
   "execution_count": 117,
   "metadata": {
    "collapsed": false
   },
   "outputs": [
    {
     "name": "stdout",
     "output_type": "stream",
     "text": [
      "('C param:', 1e-05, ' score:', 0.69521444235876539)\n",
      "('C param:', 5e-05, ' score:', 0.70707668094984211)\n",
      "('C param:', 0.0001, ' score:', 0.7114371749769427)\n",
      "('C param:', 0.0005, ' score:', 0.71596872195863404)\n",
      "('C param:', 0.001, ' score:', 0.71645218366526731)\n",
      "('C param:', 0.002, ' score:', 0.71661223156534148)\n",
      "('C param:', 0.003, ' score:', 0.71664009340285351)\n",
      "('C param:', 0.004, ' score:', 0.71664931800528076)\n",
      "('C param:', 0.005, ' score:', 0.71664890546943161)\n",
      "('C param:', 0.006, ' score:', 0.71664637494967776)\n",
      "('C param:', 0.007, ' score:', 0.7166445566479821)\n",
      "('C param:', 0.008, ' score:', 0.7166426722285667)\n",
      "('C param:', 0.009, ' score:', 0.71664022965990759)\n",
      "('C param:', 0.01, ' score:', 0.71663900008802883)\n",
      "('C param:', 0.1, ' score:', 0.71661345477807359)\n",
      "('C param:', 1, ' score:', 0.7166094433829775)\n",
      "('C param:', 10, ' score:', 0.7166088544895427)\n"
     ]
    }
   ],
   "source": [
    "# Scalling the data\n",
    "\n",
    "scaler = StandardScaler()\n",
    "X_train = pd.DataFrame(scaler.fit_transform(data_train))\n",
    "X_test = pd.DataFrame(scaler.transform(data_test))\n",
    "\n",
    "\n",
    "# Logistic regression with different C values\n",
    "\n",
    "X_cross = KFold(X_train.shape[0],n_folds=5,random_state=42, shuffle =True)\n",
    "\n",
    "estim_pars = [1e-5,5e-5,1e-4,5e-4,1e-3,2e-3,3e-3,4e-3,5e-3,6e-3,7e-3,8e-3,9e-3,1e-2,1e-1,1,10]\n",
    "\n",
    "scores_arr = []\n",
    "\n",
    "for C_par in estim_pars:\n",
    "    clf = LogisticRegression (penalty='l2', C = C_par)\n",
    "    scores = cross_val_score (clf, X_train, y, cv = X_cross, scoring='roc_auc')\n",
    "    scores_arr.append(scores.mean())\n",
    "    print (\"C param:\",C_par,\" score:\",scores.mean())\n"
   ]
  },
  {
   "cell_type": "code",
   "execution_count": 118,
   "metadata": {
    "collapsed": false,
    "scrolled": true
   },
   "outputs": [
    {
     "name": "stdout",
     "output_type": "stream",
     "text": [
      "([0.69521444235876539, 0.70707668094984211, 0.7114371749769427, 0.71596872195863404, 0.71645218366526731, 0.71661223156534148, 0.71664009340285351, 0.71664931800528076, 0.71664890546943161, 0.71664637494967776, 0.7166445566479821, 0.7166426722285667, 0.71664022965990759, 0.71663900008802883, 0.71661345477807359, 0.7166094433829775, 0.7166088544895427], '\\n')\n",
      "('Maximum score: ', 0.71664931800528076)\n"
     ]
    }
   ],
   "source": [
    "print (scores_arr,\"\\n\")\n",
    "print (\"Maximum score: \",max(scores_arr))"
   ]
  },
  {
   "cell_type": "code",
   "execution_count": 119,
   "metadata": {
    "collapsed": false
   },
   "outputs": [
    {
     "data": {
      "image/png": "[encoded data removed]",
      "text/plain": [
       "<matplotlib.figure.Figure at 0x7f39634502d0>"
      ]
     },
     "metadata": {},
     "output_type": "display_data"
    }
   ],
   "source": [
    "plt.plot(estim_pars[0:5], scores_arr[0:5])\n",
    "plt.show()"
   ]
  },
  {
   "cell_type": "code",
   "execution_count": 128,
   "metadata": {
    "collapsed": false
   },
   "outputs": [
    {
     "name": "stdout",
     "output_type": "stream",
     "text": [
      "(97230, 92)\n"
     ]
    }
   ],
   "source": [
    "print (X_train.shape)"
   ]
  },
  {
   "cell_type": "code",
   "execution_count": 127,
   "metadata": {
    "collapsed": false,
    "scrolled": true
   },
   "outputs": [
    {
     "name": "stdout",
     "output_type": "stream",
     "text": [
      "('C param:', 1e-05, ' score:', 0.69515567248489463)\n",
      "('C param:', 5e-05, ' score:', 0.70704436843023311)\n",
      "('C param:', 0.0001, ' score:', 0.71141854079032463)\n",
      "('C param:', 0.0005, ' score:', 0.71598311079702137)\n",
      "('C param:', 0.001, ' score:', 0.71646867232089417)\n",
      "('C param:', 0.005, ' score:', 0.71666669677826844)\n",
      "('C param:', 0.01, ' score:', 0.716657444790048)\n",
      "('C param:', 0.05, ' score:', 0.7166388847818338)\n",
      "('C param:', 0.1, ' score:', 0.71663614484569604)\n",
      "('C param:', 0.5, ' score:', 0.71663384323825707)\n",
      "('C param:', 1, ' score:', 0.71663332739232843)\n",
      "('C param:', 10, ' score:', 0.71663281472045437)\n"
     ]
    }
   ],
   "source": [
    "# Cross Validation after removing categorical values\n",
    "\n",
    "rem_cols = ['lobby_type','r1_hero','r2_hero','r3_hero','r4_hero','r5_hero','d1_hero','d2_hero','d3_hero','d4_hero','d5_hero']\n",
    "mask = np.in1d(col_names, rem_cols)\n",
    "\n",
    "X_train = data_train.ix[:,~mask]\n",
    "X_test = data_test.ix[:,~mask]\n",
    "\n",
    "X_train = scaler.fit_transform(X_train)\n",
    "X_test = scaler.transform(X_test)\n",
    "\n",
    "X_cross = KFold(X_train.shape[0],n_folds=5,random_state=42, shuffle =True)\n",
    "\n",
    "\n",
    "estim_pars = [1e-5,5e-5,1e-4,5e-4,1e-3,5e-3,1e-2,5e-2,1e-1,5e-1,1,10]\n",
    "scores_arr = []\n",
    "\n",
    "for C_par in estim_pars:\n",
    "    clf = LogisticRegression (penalty='l2', C = C_par)\n",
    "    scores = cross_val_score (clf, X_train, y, cv = X_cross, scoring='roc_auc')\n",
    "    scores_arr.append(scores.mean())\n",
    "    print (\"C param:\",C_par,\" score:\",scores.mean())"
   ]
  },
  {
   "cell_type": "code",
   "execution_count": null,
   "metadata": {
    "collapsed": true
   },
   "outputs": [],
   "source": []
  },
  {
   "cell_type": "code",
   "execution_count": 132,
   "metadata": {
    "collapsed": false,
    "scrolled": false
   },
   "outputs": [
    {
     "name": "stdout",
     "output_type": "stream",
     "text": [
      "(97230, 112)\n",
      "(17177, 112)\n"
     ]
    }
   ],
   "source": [
    "\n",
    "# N — количество различных героев в выборке\n",
    "X_pick_train = np.zeros((data_train.shape[0], N_max))\n",
    "\n",
    "for i, match_id in enumerate(data_train.index):\n",
    "    for p in range(5):\n",
    "        X_pick_train[i, data_train.ix[match_id, 'r%d_hero' % (p+1)]-1] = 1\n",
    "        X_pick_train[i, data_train.ix[match_id, 'd%d_hero' % (p+1)]-1] = -1\n",
    "\n",
    "        \n",
    "# N — количество различных героев в выборке\n",
    "\n",
    "X_pick_test = np.zeros((data_test.shape[0], N_max))\n",
    "\n",
    "for i, match_id in enumerate(data_test.index):\n",
    "    for p in range(5):\n",
    "        X_pick_test[i, data_test.ix[match_id, 'r%d_hero' % (p+1)]-1] = 1\n",
    "        X_pick_test[i, data_test.ix[match_id, 'd%d_hero' % (p+1)]-1] = -1\n",
    "\n",
    "\n",
    "print (X_pick_train.shape)\n",
    "print (X_pick_test.shape)"
   ]
  },
  {
   "cell_type": "code",
   "execution_count": 133,
   "metadata": {
    "collapsed": false
   },
   "outputs": [
    {
     "name": "stdout",
     "output_type": "stream",
     "text": [
      "(97230, 204)\n",
      "(17177, 204)\n"
     ]
    }
   ],
   "source": [
    "X_train = pd.concat([pd.DataFrame(X_train), pd.DataFrame(X_pick_train)],axis=1)\n",
    "X_test = pd.concat([pd.DataFrame(X_test), pd.DataFrame(X_pick_test)],axis=1)\n",
    "\n",
    "\n",
    "print (X_train.shape)\n",
    "print (X_test.shape)"
   ]
  },
  {
   "cell_type": "code",
   "execution_count": 134,
   "metadata": {
    "collapsed": false
   },
   "outputs": [
    {
     "name": "stdout",
     "output_type": "stream",
     "text": [
      "('C param:', 1e-05, ' score:', 0.71484955946214324)\n",
      "('C param:', 5e-05, ' score:', 0.73536149339535273)\n",
      "('C param:', 0.0001, ' score:', 0.74280536380214013)\n",
      "('C param:', 0.0005, ' score:', 0.75081248354972574)\n",
      "('C param:', 0.001, ' score:', 0.75167316519053495)\n",
      "('C param:', 0.005, ' score:', 0.75202073902542454)\n",
      "('C param:', 0.01, ' score:', 0.75201730366310371)\n",
      "('C param:', 0.05, ' score:', 0.75198860501090325)\n",
      "('C param:', 0.1, ' score:', 0.75198272969473312)\n",
      "('C param:', 0.5, ' score:', 0.75197871941041894)\n",
      "('C param:', 1, ' score:', 0.75197846416075731)\n",
      "('C param:', 10, ' score:', 0.7519781718908749)\n"
     ]
    }
   ],
   "source": [
    "# Cross Validation after removing heroes and adding new columns\n",
    "X_train = scaler.fit_transform(X_train)\n",
    "X_test = scaler.transform(X_test)\n",
    "\n",
    "X_cross = KFold(X_train.shape[0],n_folds=5,random_state=42, shuffle =True)\n",
    "\n",
    "estim_pars = [1e-5,5e-5,1e-4,5e-4,1e-3,5e-3,1e-2,5e-2,1e-1,5e-1,1,10]\n",
    "scores_arr = []\n",
    "\n",
    "for C_par in estim_pars:\n",
    "    clf = LogisticRegression (penalty='l2', C = C_par)\n",
    "    scores = cross_val_score (clf, X_train, y, cv = X_cross, scoring='roc_auc')\n",
    "    scores_arr.append(scores.mean())\n",
    "    print (\"C param:\",C_par,\" score:\",scores.mean())"
   ]
  },
  {
   "cell_type": "code",
   "execution_count": 141,
   "metadata": {
    "collapsed": false
   },
   "outputs": [
    {
     "data": {
      "image/png": "[encoded data removed]",
      "text/plain": [
       "<matplotlib.figure.Figure at 0x7f39681ed510>"
      ]
     },
     "metadata": {},
     "output_type": "display_data"
    }
   ],
   "source": [
    "plt.plot(estim_pars[0:5], scores_arr[0:5])\n",
    "plt.show()"
   ]
  },
  {
   "cell_type": "code",
   "execution_count": 139,
   "metadata": {
    "collapsed": false
   },
   "outputs": [],
   "source": [
    "clf = LogisticRegression (penalty='l2', C = 0.005)\n",
    "clf.fit(X_train,y)\n",
    "\n",
    "pred = clf.predict_proba(X_test)[:, 1]"
   ]
  },
  {
   "cell_type": "code",
   "execution_count": 140,
   "metadata": {
    "collapsed": false
   },
   "outputs": [
    {
     "name": "stdout",
     "output_type": "stream",
     "text": [
      "('min prob value: ', 0.008468133325207506)\n",
      "('max prob value: ', 0.99615724450785148)\n"
     ]
    }
   ],
   "source": [
    "print(\"min prob value: \",pred.min())\n",
    "print(\"max prob value: \",pred.max())"
   ]
  }
 ],
 "metadata": {
  "kernelspec": {
   "display_name": "Python 2",
   "language": "python",
   "name": "python2"
  },
  "language_info": {
   "codemirror_mode": {
    "name": "ipython",
    "version": 2
   },
   "file_extension": ".py",
   "mimetype": "text/x-python",
   "name": "python",
   "nbconvert_exporter": "python",
   "pygments_lexer": "ipython2",
   "version": "2.7.11"
  }
 },
 "nbformat": 4,
 "nbformat_minor": 0
}
